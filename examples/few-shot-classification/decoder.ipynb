{
 "cells": [
  {
   "cell_type": "code",
   "execution_count": 1,
   "id": "646946a9-e838-4c1c-bd3c-3ae1d2f4a333",
   "metadata": {},
   "outputs": [],
   "source": [
    "import torch\n",
    "from transformers import AutoTokenizer, GPT2LMHeadModel"
   ]
  },
  {
   "cell_type": "code",
   "execution_count": 2,
   "id": "68777029-7c4e-4188-b2f5-9dcdb9a807bf",
   "metadata": {},
   "outputs": [],
   "source": [
    "tokenizer = AutoTokenizer.from_pretrained(\"gpt2\", padding_side='left')\n",
    "model = GPT2LMHeadModel.from_pretrained(\"gpt2\")"
   ]
  },
  {
   "cell_type": "code",
   "execution_count": 3,
   "id": "ac2b8748-e3df-4ed2-9514-2bbcaad72095",
   "metadata": {},
   "outputs": [
    {
     "data": {
      "text/plain": [
       "'<|endoftext|>'"
      ]
     },
     "execution_count": 3,
     "metadata": {},
     "output_type": "execute_result"
    }
   ],
   "source": [
    "tokenizer.eos_token"
   ]
  },
  {
   "cell_type": "code",
   "execution_count": 4,
   "id": "5611a937-b119-43de-9868-7598ccde5b7d",
   "metadata": {},
   "outputs": [],
   "source": [
    "tokenizer.pad_token = tokenizer.eos_token\n",
    "inputs = tokenizer([\"Hello, my dog is cute\", \"Hello\"], return_tensors=\"pt\", padding=True)\n",
    "outputs = model(**inputs, labels=inputs[\"input_ids\"])\n",
    "loss = outputs.loss\n",
    "logits = outputs.logits"
   ]
  },
  {
   "cell_type": "code",
   "execution_count": 5,
   "id": "0cfb4bc8-2d85-4b47-a8ba-81a4511c2113",
   "metadata": {},
   "outputs": [
    {
     "data": {
      "text/plain": [
       "{'input_ids': tensor([[15496,    11,   616,  3290,   318, 13779],\n",
       "        [50256, 50256, 50256, 50256, 50256, 15496]]), 'attention_mask': tensor([[1, 1, 1, 1, 1, 1],\n",
       "        [0, 0, 0, 0, 0, 1]])}"
      ]
     },
     "execution_count": 5,
     "metadata": {},
     "output_type": "execute_result"
    }
   ],
   "source": [
    "inputs"
   ]
  },
  {
   "cell_type": "code",
   "execution_count": 6,
   "id": "33e1beb8-b5f9-46d8-9afb-c6edec452e6f",
   "metadata": {},
   "outputs": [
    {
     "data": {
      "text/plain": [
       "torch.Size([2, 6, 50257])"
      ]
     },
     "execution_count": 6,
     "metadata": {},
     "output_type": "execute_result"
    }
   ],
   "source": [
    "logits.shape"
   ]
  },
  {
   "cell_type": "code",
   "execution_count": 7,
   "id": "1e5cd4cd-63ea-4099-8bc5-0543d2524366",
   "metadata": {},
   "outputs": [
    {
     "data": {
      "text/plain": [
       "odict_keys(['loss', 'logits', 'past_key_values'])"
      ]
     },
     "execution_count": 7,
     "metadata": {},
     "output_type": "execute_result"
    }
   ],
   "source": [
    "outputs.keys()"
   ]
  },
  {
   "cell_type": "code",
   "execution_count": 8,
   "id": "db713c25-c86b-4833-8aa8-ac0a3e521748",
   "metadata": {},
   "outputs": [
    {
     "data": {
      "text/plain": [
       "dict_keys(['input_ids', 'attention_mask'])"
      ]
     },
     "execution_count": 8,
     "metadata": {},
     "output_type": "execute_result"
    }
   ],
   "source": [
    "inputs.keys()"
   ]
  },
  {
   "cell_type": "code",
   "execution_count": 20,
   "id": "1377d535-78a6-43d8-aaad-5b97b24619c2",
   "metadata": {},
   "outputs": [],
   "source": [
    "infer = model.generate(**inputs, pad_token_id=tokenizer.eos_token_id, max_new_tokens=256, num_beams=5, early_stopping=True, no_repeat_ngram_size=2)"
   ]
  },
  {
   "cell_type": "code",
   "execution_count": 21,
   "id": "d4a2f944-bd62-41a1-ac59-063592c1c6df",
   "metadata": {},
   "outputs": [
    {
     "data": {
      "text/plain": [
       "tensor([[15496,    11,   616,  3290,   318, 13779,    11,   475,   314,  1101,\n",
       "           407,  1654,   611,   673,  7832,   340,   393,   407,    13,   314,\n",
       "           836,   470,   760,   644,   284,   466,   351,   607,    11,   523,\n",
       "           314,  1183,   655,  2666,   340,   379,   326,   526,   198,   198,\n",
       "             1,    40,  1101,  7926,    11,   314,  1422,   470,  1612,   284,\n",
       "           307, 22066,   553,   673,   531,    13,   366,    40,   655,  2227,\n",
       "           284,  1309,   345,   760,   326,   314,  1842,   345,    11,   290,\n",
       "           314,   765,   345,   284,   760,   703,   881,   314,  2051,   345,\n",
       "            13,   921,   821,   884,   257,  7932,  1048,    13,  6952,   345,\n",
       "           523,   881,   329,  2279,   345,  1053,  1760,   329,   502,   290,\n",
       "           616,  1641,    13,   632,   338,   587,   257,   890,   640,  1201,\n",
       "           314,  1053,   587,  1498,   284,   910, 24829,   284,   345,   526,\n",
       "         50256],\n",
       "        [50256, 50256, 50256, 50256, 50256, 15496,   198,   198,    40,  1053,\n",
       "           587,  1762,   319,   428,   329,   257,   981,   783,    11,   290,\n",
       "           314,  1101,  1107,  6568,   284,  2648,   340,   351,   345,    13,\n",
       "           632,   338,   587,   257,   890,   640,  2406,    11,   475,   340,\n",
       "           338,  3443,   994,    13,   314,  2911,   345,  2883,   340,   355,\n",
       "           881,   355,   314,   466,    11,   780,   314,   760,   345,   821,\n",
       "          1016,   284,  1842,   340,  1165,    13,   628,   198,  1532,   345,\n",
       "           423,   597,  2683,   393,  3651,    11,  1254,  1479,   284,  2666,\n",
       "           606,   287,   262,  3651,  2174,    11,   393,  3758,   502,   281,\n",
       "           304,    12,  4529,    13, 50256, 50256, 50256, 50256, 50256, 50256,\n",
       "         50256, 50256, 50256, 50256, 50256, 50256, 50256, 50256, 50256, 50256,\n",
       "         50256, 50256, 50256, 50256, 50256, 50256, 50256, 50256, 50256, 50256,\n",
       "         50256]])"
      ]
     },
     "execution_count": 21,
     "metadata": {},
     "output_type": "execute_result"
    }
   ],
   "source": [
    "infer"
   ]
  },
  {
   "cell_type": "code",
   "execution_count": 22,
   "id": "76d1d892-cea1-4338-9e2e-9657447a4c87",
   "metadata": {},
   "outputs": [
    {
     "name": "stdout",
     "output_type": "stream",
     "text": [
      "Hello, my dog is cute, but I'm not sure if she likes it or not. I don't know what to do with her, so I'll just leave it at that.\"\n",
      "\n",
      "\"I'm sorry, I didn't mean to be rude,\" she said. \"I just wanted to let you know that I love you, and I want you to know how much I miss you. You're such a wonderful person. Thank you so much for everything you've done for me and my family. It's been a long time since I've been able to say goodbye to you.\"<|endoftext|>\n"
     ]
    }
   ],
   "source": [
    "print(tokenizer.decode(infer[0], skip_special_tokens=False))"
   ]
  },
  {
   "cell_type": "code",
   "execution_count": 23,
   "id": "3ab21979-f9d0-40c8-9180-21f054b0cd0f",
   "metadata": {},
   "outputs": [
    {
     "name": "stdout",
     "output_type": "stream",
     "text": [
      "<|endoftext|><|endoftext|><|endoftext|><|endoftext|><|endoftext|>Hello\n",
      "\n",
      "I've been working on this for a while now, and I'm really excited to share it with you. It's been a long time coming, but it's finally here. I hope you enjoy it as much as I do, because I know you're going to love it too.\n",
      "\n",
      "\n",
      "If you have any questions or comments, feel free to leave them in the comments below, or send me an e-mail.<|endoftext|><|endoftext|><|endoftext|><|endoftext|><|endoftext|><|endoftext|><|endoftext|><|endoftext|><|endoftext|><|endoftext|><|endoftext|><|endoftext|><|endoftext|><|endoftext|><|endoftext|><|endoftext|><|endoftext|><|endoftext|><|endoftext|><|endoftext|><|endoftext|><|endoftext|><|endoftext|><|endoftext|><|endoftext|><|endoftext|><|endoftext|>\n"
     ]
    }
   ],
   "source": [
    "print(tokenizer.decode(infer[1], skip_special_tokens=False))"
   ]
  },
  {
   "cell_type": "code",
   "execution_count": 24,
   "id": "4ed08f2d-de48-4183-b05c-c574eae90a3e",
   "metadata": {},
   "outputs": [],
   "source": [
    "infer2 = model.generate(**inputs, pad_token_id=tokenizer.eos_token_id, max_new_tokens=256, num_beams=5, early_stopping=True, no_repeat_ngram_size=2, num_return_sequences=5)"
   ]
  },
  {
   "cell_type": "code",
   "execution_count": 28,
   "id": "e12a5987-bd45-4a5d-967b-7527f20fda0b",
   "metadata": {},
   "outputs": [
    {
     "data": {
      "text/plain": [
       "torch.Size([10, 151])"
      ]
     },
     "execution_count": 28,
     "metadata": {},
     "output_type": "execute_result"
    }
   ],
   "source": [
    "infer2.size()"
   ]
  },
  {
   "cell_type": "code",
   "execution_count": 30,
   "id": "ffdfafbf-f70b-4565-9a3f-ce57e459fa60",
   "metadata": {},
   "outputs": [
    {
     "name": "stdout",
     "output_type": "stream",
     "text": [
      "Hello, my dog is cute, but I'm not sure if she likes it or not. I don't know what to do with her, so I'll just leave it at that.\"\n",
      "\n",
      "\"I'm sorry, I didn't mean to be rude,\" she said. \"I just wanted to let you know that I love you, and I want you to know how much I miss you. You're such a wonderful person. Thank you so much for everything you've done for me and my family. It's been a long time since I've been able to say goodbye to you.\"<|endoftext|><|endoftext|><|endoftext|><|endoftext|><|endoftext|><|endoftext|><|endoftext|><|endoftext|><|endoftext|><|endoftext|><|endoftext|><|endoftext|><|endoftext|><|endoftext|><|endoftext|><|endoftext|><|endoftext|><|endoftext|><|endoftext|><|endoftext|><|endoftext|><|endoftext|><|endoftext|><|endoftext|><|endoftext|><|endoftext|><|endoftext|><|endoftext|><|endoftext|><|endoftext|><|endoftext|>\n",
      "Hello, my dog is cute, but I'm not sure if she likes it or not. I don't know what to do with her, so I'll just leave it at that.\"\n",
      "\n",
      "\"I'm sorry, I didn't mean to be rude,\" she said. \"I just wanted to let you know that I love you, and I want you to know how much I miss you. You're such a wonderful person. Thank you so much for everything you've done for me and my family. It's been a long time since I've been able to say goodbye to you and thank you for all of the things that have made me so happy.\"<|endoftext|><|endoftext|><|endoftext|><|endoftext|><|endoftext|><|endoftext|><|endoftext|><|endoftext|><|endoftext|><|endoftext|><|endoftext|><|endoftext|><|endoftext|><|endoftext|><|endoftext|><|endoftext|><|endoftext|>\n",
      "Hello, my dog is cute, but I'm not sure if she likes it or not. I don't know what to do with her, so I'll just leave it at that.\"\n",
      "\n",
      "\"I'm sorry, I didn't mean to be rude,\" she said. \"I just wanted to let you know that I love you, and I want you to know how much I miss you. You're such a wonderful person. Thank you so much for everything you've done for me and my family. It's been a long time since I've been able to say goodbye to you and thank you for all of the things that have made me so happy and happy to have you around. And I can't wait to see you again.\"<|endoftext|>\n",
      "Hello, my dog is cute, but I'm not sure if she likes it or not. I don't know what to do with her, so I'll just leave it at that.\"\n",
      "\n",
      "\"I'm sorry, I didn't mean to be rude,\" she said. \"I just wanted to let you know that I love you, and I want you to know how much I miss you. You're such a wonderful person. Thank you so much for everything you've done for me and my family. It's been a long time since I've been able to say goodbye to you and thank you for all of the things that have made me so happy and happy to have you around.\"<|endoftext|><|endoftext|><|endoftext|><|endoftext|><|endoftext|><|endoftext|><|endoftext|><|endoftext|><|endoftext|><|endoftext|><|endoftext|>\n",
      "Hello, my dog is cute, but I'm not sure if she likes it or not. I don't know what to do with her, so I'll just leave it at that.\"\n",
      "\n",
      "\"I'm sorry, I didn't mean to be rude,\" she said. \"I just wanted to let you know that I love you, and I want you to know how much I miss you. You're such a wonderful person. Thank you so much for everything you've done for me and my family. It's been a long time since I've been able to say goodbye to you and thank you for all of the things that have made me so happy and happy to see you again.\"<|endoftext|><|endoftext|><|endoftext|><|endoftext|><|endoftext|><|endoftext|><|endoftext|><|endoftext|><|endoftext|><|endoftext|><|endoftext|>\n",
      "<|endoftext|><|endoftext|><|endoftext|><|endoftext|><|endoftext|>Hello\n",
      "\n",
      "I've been working on this for a while now, and I'm really excited to share it with you. It's been a long time coming, but it's finally here. I hope you enjoy it as much as I do, because I know you're going to love it too.\n",
      "\n",
      "\n",
      "If you have any questions or comments, feel free to leave them in the comments below, or send me an e-mail.<|endoftext|><|endoftext|><|endoftext|><|endoftext|><|endoftext|><|endoftext|><|endoftext|><|endoftext|><|endoftext|><|endoftext|><|endoftext|><|endoftext|><|endoftext|><|endoftext|><|endoftext|><|endoftext|><|endoftext|><|endoftext|><|endoftext|><|endoftext|><|endoftext|><|endoftext|><|endoftext|><|endoftext|><|endoftext|><|endoftext|><|endoftext|><|endoftext|><|endoftext|><|endoftext|><|endoftext|><|endoftext|><|endoftext|><|endoftext|><|endoftext|><|endoftext|><|endoftext|><|endoftext|><|endoftext|><|endoftext|><|endoftext|><|endoftext|><|endoftext|><|endoftext|><|endoftext|><|endoftext|><|endoftext|><|endoftext|><|endoftext|><|endoftext|><|endoftext|><|endoftext|><|endoftext|><|endoftext|><|endoftext|><|endoftext|><|endoftext|>\n",
      "<|endoftext|><|endoftext|><|endoftext|><|endoftext|><|endoftext|>Hello\n",
      "\n",
      "I've been working on this for a while now, and I'm really excited to share it with you. It's been a long time coming, but it's finally here. I hope you enjoy it as much as I do, because I know you're going to love it too.\n",
      "\n",
      "\n",
      "If you have any questions or comments, feel free to leave them in the comments below, or send me an email.<|endoftext|><|endoftext|><|endoftext|><|endoftext|><|endoftext|><|endoftext|><|endoftext|><|endoftext|><|endoftext|><|endoftext|><|endoftext|><|endoftext|><|endoftext|><|endoftext|><|endoftext|><|endoftext|><|endoftext|><|endoftext|><|endoftext|><|endoftext|><|endoftext|><|endoftext|><|endoftext|><|endoftext|><|endoftext|><|endoftext|><|endoftext|><|endoftext|><|endoftext|><|endoftext|><|endoftext|><|endoftext|><|endoftext|><|endoftext|><|endoftext|><|endoftext|><|endoftext|><|endoftext|><|endoftext|><|endoftext|><|endoftext|><|endoftext|><|endoftext|><|endoftext|><|endoftext|><|endoftext|><|endoftext|><|endoftext|><|endoftext|><|endoftext|><|endoftext|><|endoftext|><|endoftext|><|endoftext|><|endoftext|><|endoftext|><|endoftext|><|endoftext|><|endoftext|>\n",
      "<|endoftext|><|endoftext|><|endoftext|><|endoftext|><|endoftext|>Hello\n",
      "\n",
      "I've been working on this for a while now, and I'm really excited to share it with you. It's been a long time coming, but it's finally here. I hope you enjoy it as much as I do, because I know you're going to love it too.\n",
      "\n",
      "\n",
      "If you have any questions or comments, feel free to leave them in the comments section below.<|endoftext|><|endoftext|><|endoftext|><|endoftext|><|endoftext|><|endoftext|><|endoftext|><|endoftext|><|endoftext|><|endoftext|><|endoftext|><|endoftext|><|endoftext|><|endoftext|><|endoftext|><|endoftext|><|endoftext|><|endoftext|><|endoftext|><|endoftext|><|endoftext|><|endoftext|><|endoftext|><|endoftext|><|endoftext|><|endoftext|><|endoftext|><|endoftext|><|endoftext|><|endoftext|><|endoftext|><|endoftext|><|endoftext|><|endoftext|><|endoftext|><|endoftext|><|endoftext|><|endoftext|><|endoftext|><|endoftext|><|endoftext|><|endoftext|><|endoftext|><|endoftext|><|endoftext|><|endoftext|><|endoftext|><|endoftext|><|endoftext|><|endoftext|><|endoftext|><|endoftext|><|endoftext|><|endoftext|><|endoftext|><|endoftext|><|endoftext|><|endoftext|><|endoftext|><|endoftext|><|endoftext|><|endoftext|><|endoftext|><|endoftext|>\n",
      "<|endoftext|><|endoftext|><|endoftext|><|endoftext|><|endoftext|>Hello\n",
      "\n",
      "I've been working on this for a while now, and I'm really excited to share it with you. It's been a long time coming, but it's finally here. I hope you enjoy it as much as I do, because I know you're going to love it too.\n",
      "\n",
      "\n",
      "If you have any questions or comments, feel free to leave them in the comment section below.<|endoftext|><|endoftext|><|endoftext|><|endoftext|><|endoftext|><|endoftext|><|endoftext|><|endoftext|><|endoftext|><|endoftext|><|endoftext|><|endoftext|><|endoftext|><|endoftext|><|endoftext|><|endoftext|><|endoftext|><|endoftext|><|endoftext|><|endoftext|><|endoftext|><|endoftext|><|endoftext|><|endoftext|><|endoftext|><|endoftext|><|endoftext|><|endoftext|><|endoftext|><|endoftext|><|endoftext|><|endoftext|><|endoftext|><|endoftext|><|endoftext|><|endoftext|><|endoftext|><|endoftext|><|endoftext|><|endoftext|><|endoftext|><|endoftext|><|endoftext|><|endoftext|><|endoftext|><|endoftext|><|endoftext|><|endoftext|><|endoftext|><|endoftext|><|endoftext|><|endoftext|><|endoftext|><|endoftext|><|endoftext|><|endoftext|><|endoftext|><|endoftext|><|endoftext|><|endoftext|><|endoftext|><|endoftext|><|endoftext|><|endoftext|>\n",
      "<|endoftext|><|endoftext|><|endoftext|><|endoftext|><|endoftext|>Hello\n",
      "\n",
      "I've been working on this for a while now, and I'm really excited to share it with you. It's been a long time coming, but it's finally here. I hope you enjoy it as much as I do, because I know you're going to love it, too.<|endoftext|><|endoftext|><|endoftext|><|endoftext|><|endoftext|><|endoftext|><|endoftext|><|endoftext|><|endoftext|><|endoftext|><|endoftext|><|endoftext|><|endoftext|><|endoftext|><|endoftext|><|endoftext|><|endoftext|><|endoftext|><|endoftext|><|endoftext|><|endoftext|><|endoftext|><|endoftext|><|endoftext|><|endoftext|><|endoftext|><|endoftext|><|endoftext|><|endoftext|><|endoftext|><|endoftext|><|endoftext|><|endoftext|><|endoftext|><|endoftext|><|endoftext|><|endoftext|><|endoftext|><|endoftext|><|endoftext|><|endoftext|><|endoftext|><|endoftext|><|endoftext|><|endoftext|><|endoftext|><|endoftext|><|endoftext|><|endoftext|><|endoftext|><|endoftext|><|endoftext|><|endoftext|><|endoftext|><|endoftext|><|endoftext|><|endoftext|><|endoftext|><|endoftext|><|endoftext|><|endoftext|><|endoftext|><|endoftext|><|endoftext|><|endoftext|><|endoftext|><|endoftext|><|endoftext|><|endoftext|><|endoftext|><|endoftext|><|endoftext|><|endoftext|><|endoftext|><|endoftext|><|endoftext|><|endoftext|><|endoftext|><|endoftext|><|endoftext|><|endoftext|><|endoftext|><|endoftext|><|endoftext|>\n"
     ]
    }
   ],
   "source": [
    "for i in range(10):\n",
    "    print(tokenizer.decode(infer2[i], skip_special_tokens=False))"
   ]
  },
  {
   "cell_type": "code",
   "execution_count": 38,
   "id": "498a7abd-b559-431d-8e61-339da494e7f3",
   "metadata": {},
   "outputs": [
    {
     "data": {
      "text/plain": [
       "<torch._C.Generator at 0x7f9595975930>"
      ]
     },
     "execution_count": 38,
     "metadata": {},
     "output_type": "execute_result"
    }
   ],
   "source": [
    "import torch\n",
    "torch.manual_seed(0)"
   ]
  },
  {
   "cell_type": "code",
   "execution_count": 39,
   "id": "2bc3a73e-2f04-432c-b803-d4ef21ab417f",
   "metadata": {},
   "outputs": [],
   "source": [
    "sample_output = model.generate(\n",
    "    **inputs, \n",
    "    do_sample=True, \n",
    "    max_length=50, \n",
    "    top_k=0,\n",
    "    pad_token_id=tokenizer.eos_token_id, \n",
    ")"
   ]
  },
  {
   "cell_type": "code",
   "execution_count": 40,
   "id": "2beb9044-2684-43b8-a69a-d15ab289f459",
   "metadata": {},
   "outputs": [
    {
     "name": "stdout",
     "output_type": "stream",
     "text": [
      "Output:\n",
      "----------------------------------------------------------------------------------------------------\n",
      "Hello, my dog is cute along with our families, but the heart is mine now... I can't sit here anymore with my head so tiny. I don't want him to see me like we did today and just not see any of our friends\n"
     ]
    }
   ],
   "source": [
    "print(\"Output:\\n\" + 100 * '-')\n",
    "print(tokenizer.decode(sample_output[0], skip_special_tokens=False))"
   ]
  },
  {
   "cell_type": "code",
   "execution_count": 41,
   "id": "dbea1516-d7c4-4fa0-885f-0c03764826dc",
   "metadata": {},
   "outputs": [],
   "source": [
    "sample_output = model.generate(\n",
    "    **inputs, \n",
    "    do_sample=True, \n",
    "    max_length=50, \n",
    "    top_k=0,\n",
    "    pad_token_id=tokenizer.eos_token_id,\n",
    "    temperature=0.7\n",
    ")"
   ]
  },
  {
   "cell_type": "code",
   "execution_count": 42,
   "id": "f4e023fb-93a3-4858-b34b-f6f6bebe5e6c",
   "metadata": {},
   "outputs": [
    {
     "name": "stdout",
     "output_type": "stream",
     "text": [
      "Output:\n",
      "----------------------------------------------------------------------------------------------------\n",
      "Hello, my dog is cute. He has the same personality as his owners. I feel the same way about him.\n",
      "\n",
      "And yet, he still care about me.\n",
      "\n",
      "I am not sure if I can take it anymore. Do I\n"
     ]
    }
   ],
   "source": [
    "print(\"Output:\\n\" + 100 * '-')\n",
    "print(tokenizer.decode(sample_output[0], skip_special_tokens=False))"
   ]
  },
  {
   "cell_type": "code",
   "execution_count": 43,
   "id": "cd823fd7-c2fa-4f09-863b-36f33e9c0691",
   "metadata": {},
   "outputs": [],
   "source": [
    "sample_output = model.generate(\n",
    "    **inputs, \n",
    "    do_sample=True, \n",
    "    max_length=50, \n",
    "    top_k=6,\n",
    "    pad_token_id=tokenizer.eos_token_id, \n",
    ")"
   ]
  },
  {
   "cell_type": "code",
   "execution_count": 44,
   "id": "be055925-8e8b-4553-a038-2fd29141df36",
   "metadata": {},
   "outputs": [
    {
     "name": "stdout",
     "output_type": "stream",
     "text": [
      "Hello, my dog is cute. She has no problem with my dogs and I don't have any issues with her being in my home. It is not a big deal. I am happy that we have a good relationship but I don't want to\n",
      "<|endoftext|><|endoftext|><|endoftext|><|endoftext|><|endoftext|>Hello\n",
      "\n",
      "I have a few questions, I am sorry to have to answer, but I am sure you have all been asking me about this, I am sure I have all been asking you too. I am very happy\n"
     ]
    }
   ],
   "source": [
    "for i in range(2):\n",
    "    print(tokenizer.decode(sample_output[i], skip_special_tokens=False))"
   ]
  },
  {
   "cell_type": "code",
   "execution_count": 45,
   "id": "f4924462-547e-466e-8753-24fa43fe060b",
   "metadata": {},
   "outputs": [],
   "source": [
    "sample_output = model.generate(\n",
    "    **inputs, \n",
    "    do_sample=True, \n",
    "    max_length=50, \n",
    "    top_p=0.92, \n",
    "    top_k=0,\n",
    "    pad_token_id=tokenizer.eos_token_id, \n",
    ")"
   ]
  },
  {
   "cell_type": "code",
   "execution_count": 46,
   "id": "54946b39-08e8-472f-b220-563c43d2354c",
   "metadata": {},
   "outputs": [
    {
     "name": "stdout",
     "output_type": "stream",
     "text": [
      "Hello, my dog is cute! I love she was wagging her tail when I ran across her and it took quite a bit for me to get her over there. All of a sudden I noticed her eyes were open so I snagged her to\n",
      "<|endoftext|><|endoftext|><|endoftext|><|endoftext|><|endoftext|>Hello, there's a lot of people who don't have any jobs. The military's been working for years, developing weapons for warlords. Everybody thinks we are robots because we are not. All that's happening is this\n"
     ]
    }
   ],
   "source": [
    "for i in range(2):\n",
    "    print(tokenizer.decode(sample_output[i], skip_special_tokens=False))"
   ]
  },
  {
   "cell_type": "code",
   "execution_count": 48,
   "id": "546d6bbf-06e9-4245-ab0d-df8a7039c559",
   "metadata": {},
   "outputs": [],
   "source": [
    "sample_output = model.generate(\n",
    "    **inputs, \n",
    "    do_sample=True, \n",
    "    max_length=50, \n",
    "    top_p=0.95, \n",
    "    top_k=50,\n",
    "    pad_token_id=tokenizer.eos_token_id,\n",
    "    early_stopping=True,\n",
    "    num_return_sequences=3\n",
    ")"
   ]
  },
  {
   "cell_type": "code",
   "execution_count": 49,
   "id": "d8adf5a4-b889-4b63-b59d-5a18f3c19bb5",
   "metadata": {},
   "outputs": [
    {
     "name": "stdout",
     "output_type": "stream",
     "text": [
      "Hello, my dog is cute.\n",
      "\n",
      "He's not being very cute.\n",
      "\n",
      "That's not cute.\n",
      "\n",
      "That's what I was trying to tell you.\n",
      "\n",
      "Hey, it's okay.\n",
      "\n",
      "He won't stop staring\n",
      "Hello, my dog is cute! I'd be lying if I said he was happy!\" said Kimbo, laughing.\n",
      "\n",
      "In the morning, Kimbo is enjoying playing inside the bathroom and eating a pie of bread while his girlfriend, Kayla\n",
      "Hello, my dog is cute. I'm sure it is adorable at first, but I have no idea why so many people have gotten into this situation before I did. It would be really wrong to think that it's a problem that some people have\n",
      "<|endoftext|><|endoftext|><|endoftext|><|endoftext|><|endoftext|>Hello for the fact that you've been reading this all day. Let's break it down, in its entirety:\n",
      "\n",
      "What's your favorite part about playing Starcraft 2?\n",
      "\n",
      "Favorite bit about watching it?\n",
      "\n",
      "\n",
      "<|endoftext|><|endoftext|><|endoftext|><|endoftext|><|endoftext|>Hello was doing my best to do so. I should be able to explain what a lot of things are, what I'm going to do next. But there was something that I forgot, and I should make some changes in\n",
      "<|endoftext|><|endoftext|><|endoftext|><|endoftext|><|endoftext|>Hello\n",
      "\n",
      "Chen\n",
      "\n",
      "\"Hey guys,\" I said, nodding to myself. \"This morning you woke up this morning, huh?\"\n",
      "\n",
      "\"You did okay? I've been trying to be cheerful this morning\n"
     ]
    }
   ],
   "source": [
    "for i in range(6):\n",
    "    print(tokenizer.decode(sample_output[i], skip_special_tokens=False))"
   ]
  },
  {
   "cell_type": "code",
   "execution_count": null,
   "id": "739f1068-a42d-4bfc-a15b-9e896c6f0b87",
   "metadata": {},
   "outputs": [],
   "source": []
  }
 ],
 "metadata": {
  "kernelspec": {
   "display_name": "ml",
   "language": "python",
   "name": "ml"
  },
  "language_info": {
   "codemirror_mode": {
    "name": "ipython",
    "version": 3
   },
   "file_extension": ".py",
   "mimetype": "text/x-python",
   "name": "python",
   "nbconvert_exporter": "python",
   "pygments_lexer": "ipython3",
   "version": "3.10.9"
  }
 },
 "nbformat": 4,
 "nbformat_minor": 5
}
