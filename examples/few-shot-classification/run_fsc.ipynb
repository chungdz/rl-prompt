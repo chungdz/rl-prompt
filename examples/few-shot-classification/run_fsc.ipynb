{
 "cells": [
  {
   "cell_type": "code",
   "execution_count": 1,
   "id": "811becaa-154e-4c73-a301-c9a35aa33647",
   "metadata": {},
   "outputs": [],
   "source": [
    "import sys\n",
    "sys.path.append('../../')"
   ]
  },
  {
   "cell_type": "code",
   "execution_count": 2,
   "id": "91a3ff7b-eca7-4a89-be58-bb0f4a68bdbf",
   "metadata": {},
   "outputs": [],
   "source": [
    "import os\n",
    "import hydra\n",
    "from hydra import compose, initialize\n",
    "from omegaconf import DictConfig, OmegaConf\n",
    "import importlib\n",
    "from rlprompt.models import (LMAdaptorModelConfig, SinglePromptModelConfig,\n",
    "                             make_lm_adaptor_model, make_single_prompt_model)\n",
    "from rlprompt.modules import SQLModuleConfig, make_sql_module\n",
    "import rlprompt.trainers\n",
    "importlib.reload(rlprompt.trainers)\n",
    "from rlprompt.trainers import TrainerConfig, make_trainer\n",
    "from rlprompt.utils.utils import (colorful_print, compose_hydra_config_store,\n",
    "                                  get_hydra_output_dir)\n",
    "\n",
    "from fsc_helpers import (PromptedClassificationRewardConfig,\n",
    "                         FewShotClassificationDatasetConfig,\n",
    "                         make_prompted_classification_reward,\n",
    "                         make_few_shot_classification_dataset)"
   ]
  },
  {
   "cell_type": "code",
   "execution_count": 3,
   "id": "052a10c4-337b-4626-938e-cab02c4feb5a",
   "metadata": {},
   "outputs": [],
   "source": [
    "# Compose default config\n",
    "config_list = [PromptedClassificationRewardConfig,\n",
    "                FewShotClassificationDatasetConfig, LMAdaptorModelConfig,\n",
    "                SinglePromptModelConfig, SQLModuleConfig, TrainerConfig]\n",
    "cs = compose_hydra_config_store('base_fsc', config_list)"
   ]
  },
  {
   "cell_type": "code",
   "execution_count": 4,
   "id": "a720dd4f-4372-40af-a053-23dd23d27af2",
   "metadata": {},
   "outputs": [],
   "source": [
    "initialize(version_base=None, config_path=\"./\", job_name=\"test_app\")\n",
    "config = compose(config_name=\"fsc_config\", overrides=['dataset=sst-5', 'dataset_seed=0', 'prompt_length=5', 'task_lm=distilroberta-base', 'random_seed=7', 'report_to_wandb=false'])"
   ]
  },
  {
   "cell_type": "code",
   "execution_count": 5,
   "id": "7e385525-6ddf-428d-8d2e-69f38393cfa2",
   "metadata": {},
   "outputs": [
    {
     "name": "stdout",
     "output_type": "stream",
     "text": [
      "\u001b[31mtask_lm: distilroberta-base\n",
      "is_mask_lm: null\n",
      "compute_zscore: true\n",
      "incorrect_coeff: 180.0\n",
      "correct_coeff: 200.0\n",
      "dataset: sst-5\n",
      "dataset_seed: 0\n",
      "base_path: ./data\n",
      "num_shots: 16\n",
      "policy_lm: distilgpt2\n",
      "hidden_size: 2048\n",
      "logit_bias: 0.0\n",
      "fluent: false\n",
      "fluent_top_k: 20\n",
      "max_decoding_length: 5\n",
      "eos_token_id: null\n",
      "prompt_length: 5\n",
      "prompt_train_batch_size: 16\n",
      "prompt_infer_batch_size: 1\n",
      "source_str: <|endoftext|>\n",
      "sql_loss_impl: v2_v2r_v3_v3r\n",
      "training_mode: sql-onpolicy\n",
      "mix_strategy: null\n",
      "target_update_method: polyak\n",
      "target_update_steps: null\n",
      "target_learning_rate: 0.001\n",
      "reward_shaping: true\n",
      "reward_shaping_old_min: 0.0\n",
      "reward_shaping_old_max: 1.0\n",
      "reward_shaping_new_min: 0.0\n",
      "reward_shaping_new_max: 5.0\n",
      "top_k: 256\n",
      "top_p: 1.0\n",
      "num_beams: 1\n",
      "train_batch_size: 16\n",
      "train_shuffle: false\n",
      "train_drop_last: true\n",
      "num_train_epochs: 1\n",
      "max_train_steps: 12000\n",
      "do_eval: true\n",
      "eval_batch_size: 16\n",
      "eval_steps: 10\n",
      "do_save: true\n",
      "save_dir: ./outputs\n",
      "save_steps: 100\n",
      "learning_rate: 5.0e-05\n",
      "gradient_clip: true\n",
      "gradient_clip_norm: 5.0\n",
      "checkpoint_path: null\n",
      "random_seed: 7\n",
      "report_to_wandb: false\n",
      "project_name: rl-prompt\n",
      "run_name: null\n",
      "\u001b[0m\n"
     ]
    }
   ],
   "source": [
    "colorful_print(OmegaConf.to_yaml(config), fg='red')"
   ]
  },
  {
   "cell_type": "code",
   "execution_count": 6,
   "id": "92073e2f-8a5a-4c3d-82a1-25084ad945fb",
   "metadata": {},
   "outputs": [],
   "source": [
    "output_dir = './outputs/'"
   ]
  },
  {
   "cell_type": "code",
   "execution_count": 7,
   "id": "8f38c74e-3d85-4e4d-8374-342e5a23e940",
   "metadata": {},
   "outputs": [
    {
     "name": "stdout",
     "output_type": "stream",
     "text": [
      "Train Size: 80\n",
      "Examples: {'source_texts': [\"steven soderbergh 's digital video experiment is a clever and cutting , quick and dirty look at modern living and movie life .\", 'a vivid , sometimes surreal , glimpse into the mysteries of human behavior .', 'an ingenious and often harrowing look at damaged people and how families can offer either despair or consolation .', 'presents a side of contemporary chinese life that many outsiders will be surprised to know exists , and does so with an artistry that also smacks of revelation .', 'can you bear the laughter ?'], 'class_labels': [3, 3, 3, 3, 3]}\n",
      "Val Size 80\n",
      "Examples: {'source_texts': ['not as well-written as sexy beast , not as gloriously flippant as lock , stock and two smoking barrels , but stylish and moody and exceptionally well-acted .', \"like kubrick , soderbergh is n't afraid to try any genre and to do it his own way .\", 'bring on the sequel .', 'an intense and effective film about loneliness and the chilly anonymity of the environments where so many of us spend so much of our time .', 'discursive but oddly riveting documentary .'], 'class_labels': [3, 3, 3, 3, 3]}\n"
     ]
    }
   ],
   "source": [
    "(train_dataset, val_dataset, test_dataset, num_classes, verbalizers, template) = make_few_shot_classification_dataset(config)\n",
    "print('Train Size:', len(train_dataset))\n",
    "print('Examples:', train_dataset[:5])\n",
    "print('Val Size', len(val_dataset))\n",
    "print('Examples:', val_dataset[:5])"
   ]
  },
  {
   "cell_type": "code",
   "execution_count": 8,
   "id": "93849dc8-8cdf-4a0f-8ed4-e2230e6ce756",
   "metadata": {},
   "outputs": [
    {
     "data": {
      "text/plain": [
       "['Ġterrible', 'Ġbad', 'Ġokay', 'Ġgood', 'Ġgreat']"
      ]
     },
     "execution_count": 8,
     "metadata": {},
     "output_type": "execute_result"
    }
   ],
   "source": [
    "verbalizers"
   ]
  },
  {
   "cell_type": "code",
   "execution_count": 9,
   "id": "29f7eb03-d1b6-47e3-8dcc-00e525094127",
   "metadata": {},
   "outputs": [],
   "source": [
    "template"
   ]
  },
  {
   "cell_type": "code",
   "execution_count": 10,
   "id": "37c24653-507e-423e-9227-9464eaf683cf",
   "metadata": {},
   "outputs": [
    {
     "name": "stdout",
     "output_type": "stream",
     "text": [
      "distilgpt2\n"
     ]
    }
   ],
   "source": [
    "policy_model = make_lm_adaptor_model(config)"
   ]
  },
  {
   "cell_type": "code",
   "execution_count": 11,
   "id": "700a0d55-05e9-437e-a164-9f78d56c334b",
   "metadata": {},
   "outputs": [
    {
     "data": {
      "text/plain": [
       "<transformers.pipelines.text_generation.TextGenerationPipeline at 0x7f3d99603a60>"
      ]
     },
     "execution_count": 11,
     "metadata": {},
     "output_type": "execute_result"
    }
   ],
   "source": [
    "policy_model.generator"
   ]
  },
  {
   "cell_type": "code",
   "execution_count": 12,
   "id": "650c3cec-de7b-496f-9c7d-455ef7d542ce",
   "metadata": {},
   "outputs": [
    {
     "name": "stdout",
     "output_type": "stream",
     "text": [
      "LMAdaptorModel(\n",
      "  (mlp): Sequential(\n",
      "    (0): Linear(in_features=768, out_features=2048, bias=True)\n",
      "    (1): ReLU()\n",
      "    (2): Linear(in_features=2048, out_features=768, bias=True)\n",
      "  )\n",
      ")\n"
     ]
    }
   ],
   "source": [
    "print(policy_model)"
   ]
  },
  {
   "cell_type": "code",
   "execution_count": 13,
   "id": "dcc9b4e7-cc74-46c4-b178-bbb920700834",
   "metadata": {},
   "outputs": [],
   "source": [
    "prompt_model = make_single_prompt_model(policy_model, config)"
   ]
  },
  {
   "cell_type": "code",
   "execution_count": 14,
   "id": "b0a56332-86ab-4271-9f50-407bbd70e70d",
   "metadata": {},
   "outputs": [
    {
     "name": "stdout",
     "output_type": "stream",
     "text": [
      "SinglePromptModel(\n",
      "  (_model): LMAdaptorModel(\n",
      "    (mlp): Sequential(\n",
      "      (0): Linear(in_features=768, out_features=2048, bias=True)\n",
      "      (1): ReLU()\n",
      "      (2): Linear(in_features=2048, out_features=768, bias=True)\n",
      "    )\n",
      "  )\n",
      ")\n"
     ]
    }
   ],
   "source": [
    "print(prompt_model)"
   ]
  },
  {
   "cell_type": "code",
   "execution_count": 15,
   "id": "bd71c512-77c1-4e05-8c58-be69c2f8dc6e",
   "metadata": {},
   "outputs": [
    {
     "data": {
      "text/plain": [
       "'<|endoftext|>'"
      ]
     },
     "execution_count": 15,
     "metadata": {},
     "output_type": "execute_result"
    }
   ],
   "source": [
    "prompt_model.source_str"
   ]
  },
  {
   "cell_type": "code",
   "execution_count": 16,
   "id": "8ea4b7cc-bb8f-4aef-b39d-6ba224ad2daa",
   "metadata": {},
   "outputs": [
    {
     "name": "stdout",
     "output_type": "stream",
     "text": [
      "Task LM: distilroberta-base\n",
      "Verbalizers: ['Ġterrible', 'Ġbad', 'Ġokay', 'Ġgood', 'Ġgreat']\n"
     ]
    }
   ],
   "source": [
    "reward = make_prompted_classification_reward(num_classes, verbalizers, template, config)"
   ]
  },
  {
   "cell_type": "code",
   "execution_count": 17,
   "id": "31f0e561-7063-43dc-b483-78ca3f08764e",
   "metadata": {},
   "outputs": [],
   "source": [
    "algo_module = make_sql_module(prompt_model, reward, config)"
   ]
  },
  {
   "cell_type": "code",
   "execution_count": 18,
   "id": "cde51d90-bb6c-40dc-a04e-59f87941ad45",
   "metadata": {},
   "outputs": [
    {
     "data": {
      "text/plain": [
       "SQLModule(\n",
       "  (_model): SinglePromptModel(\n",
       "    (_model): LMAdaptorModel(\n",
       "      (mlp): Sequential(\n",
       "        (0): Linear(in_features=768, out_features=2048, bias=True)\n",
       "        (1): ReLU()\n",
       "        (2): Linear(in_features=2048, out_features=768, bias=True)\n",
       "      )\n",
       "    )\n",
       "  )\n",
       "  (_target_model): SinglePromptModel(\n",
       "    (_model): LMAdaptorModel(\n",
       "      (mlp): Sequential(\n",
       "        (0): Linear(in_features=768, out_features=2048, bias=True)\n",
       "        (1): ReLU()\n",
       "        (2): Linear(in_features=2048, out_features=768, bias=True)\n",
       "      )\n",
       "    )\n",
       "  )\n",
       ")"
      ]
     },
     "execution_count": 18,
     "metadata": {},
     "output_type": "execute_result"
    }
   ],
   "source": [
    "algo_module"
   ]
  },
  {
   "cell_type": "code",
   "execution_count": 19,
   "id": "0277c810-5d46-44bb-bb96-e81e492f6c91",
   "metadata": {},
   "outputs": [
    {
     "data": {
      "text/plain": [
       "[<ForwardMode.SQL_ON: 'SQL_ON'>]"
      ]
     },
     "execution_count": 19,
     "metadata": {},
     "output_type": "execute_result"
    }
   ],
   "source": [
    "algo_module._forward_modes"
   ]
  },
  {
   "cell_type": "code",
   "execution_count": 20,
   "id": "6762e743-de3b-426d-b16c-bd5a425d23e0",
   "metadata": {},
   "outputs": [],
   "source": [
    "# Hack for few-shot classification - Each batch contains all examples\n",
    "config.train_batch_size = len(train_dataset)\n",
    "config.eval_batch_size = len(val_dataset)\n",
    "config.save_dir = os.path.join(output_dir, config.save_dir)"
   ]
  },
  {
   "cell_type": "code",
   "execution_count": 21,
   "id": "deb97348-c4e5-4cf7-b7e1-0959a87c68fe",
   "metadata": {},
   "outputs": [],
   "source": [
    "import rlprompt.trainers\n",
    "importlib.reload(rlprompt.trainers)\n",
    "from rlprompt.trainers import TrainerConfig, make_trainer"
   ]
  },
  {
   "cell_type": "code",
   "execution_count": 22,
   "id": "457d726a-9ac9-4ebf-b8ca-1152a26fe9f5",
   "metadata": {},
   "outputs": [
    {
     "name": "stdout",
     "output_type": "stream",
     "text": [
      "total_train_epochs  12000 num_batches_per_epoch  1\n",
      "input length 80\n",
      "source_texts [\"steven soderbergh 's digital video experiment is a clever and cutting , quick and dirty look at modern living and movie life .\", 'a vivid , sometimes surreal , glimpse into the mysteries of human behavior .', 'an ingenious and often harrowing look at damaged people and how families can offer either despair or consolation .', 'presents a side of contemporary chinese life that many outsiders will be surprised to know exists , and does so with an artistry that also smacks of revelation .', 'can you bear the laughter ?', 'a fascinating , dark thriller that keeps you hooked on the delicious pulpiness of its lurid fiction .', 'both garcia and jagger turn in perfectly executed and wonderfully sympathetic characters , who are alternately touching and funny .', 'great fun both for sports aficionados and for ordinary louts whose idea of exercise is climbing the steps of a stadium-seat megaplex .', 'the hook is the drama within the drama , as an unsolved murder and an unresolved moral conflict jockey for the spotlight .', 'as i settled into my world war ii memories , i found myself strangely moved by even the corniest and most hackneyed contrivances .', 'the stars may be college kids , but the subject matter is as adult as you can get : the temptations of the flesh are unleashed by a slightly crazed , overtly determined young woman and a one-night swim turns into an ocean of trouble .', '... a guiltless film for nice evening out .', \"an entertaining documentary that freshly considers arguments the bard 's immortal plays were written by somebody else .\", 'though the aboriginal aspect lends the ending an extraordinary poignancy , and the story itself could be played out in any working class community in the nation .', 'an old-fashioned scary movie , one that relies on lingering terror punctuated by sudden shocks and not constant bloodshed punctuated by flying guts .', \"by the final whistle you 're convinced that this mean machine was a decent tv outing that just does n't have big screen magic .\", 'shows moments of promise but ultimately succumbs to cliches and pat storytelling .', \"if you saw benigni 's pinocchio at a public park , you 'd grab your kids and run and then probably call the police .\", 'first-timer john mckay is never able to pull it back on course .', 'the modern-day characters are nowhere near as vivid as the 19th-century ones .', \"any attempts at nuance given by the capable cast is drowned out by director jon purdy 's sledgehammer sap .\", \"mctiernan 's remake may be lighter on its feet -- the sober-minded original was as graceful as a tap-dancing rhino -- but it is just as boring and as obvious .\", 'an uneven mix of dark satire and childhood awakening .', 'ultimately , the film never recovers from the clumsy cliché of the ugly american abroad , and the too-frosty exterior ms. paltrow employs to authenticate her british persona is another liability .', 'a minor-league soccer remake of the longest yard .', \"in old-fashioned screenwriting parlance , ms. shreve 's novel proved too difficult a text to ` lick , ' despite the efforts of a first-rate cast .\", \"green ruins every single scene he 's in , and the film , while it 's not completely wreaked , is seriously compromised by that .\", 'a disaster of a drama , saved only by its winged assailants .', \"while the film is competent , it 's also uninspired , lacking the real talent and wit to elevate it beyond its formula to the level of classic romantic comedy to which it aspires .\", 'for all its shoot-outs , fistfights , and car chases , this movie is a phlegmatic bore , so tedious it makes the silly spy vs. spy film the sum of all fears , starring ben affleck , seem downright hitchcockian .', \"do n't let the subtitles fool you ; the movie only proves that hollywood no longer has a monopoly on mindless action .\", 'being latently gay and liking to read are hardly enough .', 'has some visual wit ... but little imagination elsewhere .', \"film ca n't quite maintain its initial momentum , but remains sporadically funny throughout .\", 'ruh-roh !', \"the innocence of holiday cheer ai n't what it used to be .\", 'the film has a childlike quality about it .', 'has not so much been written as assembled , frankenstein-like , out of other , marginally better shoot-em-ups .', 'pure of intention and passably diverting , his secret life is light , innocuous and unremarkable .', 'robin williams departs from his fun friendly demeanor in exchange for a darker unnerving role .', 'a sha-na-na sketch punctuated with graphic violence .', \"if mr. zhang 's subject matter is , to some degree at least , quintessentially american , his approach to storytelling might be called iranian .\", 'but the execution is a flop with the exception of about six gags that really work .', \"the trinity assembly approaches the endeavor with a shocking lack of irony , and george ratliff 's documentary , hell house , reflects their earnestness -- which makes for a terrifying film .\", 'the plot meanders from gripping to plodding and back .', 'i found myself more appreciative of what the director was trying to do than of what he had actually done .', 'the film virtually chokes on its own self-consciousness .', 'mib ii is a movie that makes it possible for the viewer to doze off for a few minutes or make several runs to the concession stand and\\\\/or restroom and not feel as if he or she has missed anything .', '... a weak and ineffective ghost story without a conclusion or pay off .', 'a dull , dumb and derivative horror film .', \"in fact , it does n't even seem like she tried .\", \"one of the more glaring signs of this movie 's servitude to its superstar is the way it skirts around any scenes that might have required genuine acting from ms. spears .\", 'this long and relentlessly saccharine film is a clear case of preaching to the converted .', 'talky , artificial and opaque ... an interesting technical exercise , but a tedious picture .', 'for all of its insights into the dream world of teen life , and its electronic expression through cyber culture , the film gives no quarter to anyone seeking to pull a cohesive story out of its 2\\xa01\\\\/2 - hour running time .', 'a devastating indictment of unbridled greed and materalism .', 'feels strangely hollow at its emotional core .', \"it shows that some studios firmly believe that people have lost the ability to think and will forgive any shoddy product as long as there 's a little girl-on-girl action .\", \"while the story is better-focused than the incomprehensible anne rice novel it 's based upon , queen of the damned is a pointless , meandering celebration of the goth-vampire , tortured woe-is-me lifestyle .\", 'a loud , ugly , irritating movie without any of its satirical salvos hitting a discernible target .', 'every now and again , a movie comes along to remind us of how very bad a motion picture can truly be .', \"and it 's not that funny -- which is just generally insulting .\", 'why spend $ 9 on the same stuff you can get for a buck or so in that greasy little vidgame pit in the theater lobby ?', \"first and foremost ... the reason to go see `` blue crush '' is the phenomenal , water-born cinematography by david hennings .\", 'the story gives ample opportunity for large-scale action and suspense , which director shekhar kapur supplies with tremendous skill .', 'stevens has a flair for dialogue comedy , the film operates nicely off the element of surprise , and the large cast is solid .', \"( washington 's ) strong hand , keen eye , sweet spirit and good taste are reflected in almost every scene .\", 'sensual , funny and , in the end , very touching .', \"the film is a hoot , and is just as good , if not better than much of what 's on saturday morning tv especially the pseudo-educational stuff we all ca n't stand .\", \"ms. hutchins is talented enough and charismatic enough to make us care about zelda 's ultimate fate .\", 'an admirable , sometimes exceptional film', 'this comic gem is as delightful as it is derivative .', \"others , more attuned to the anarchist maxim that ` the urge to destroy is also a creative urge ' , or more willing to see with their own eyes , will find morrison 's iconoclastic uses of technology to be liberating .\", 'moving and vibrant .', '( reynolds ) takes a classic story , casts attractive and talented actors and uses a magnificent landscape to create a feature film that is wickedly fun to watch .', \"brian tufano 's handsome widescreen photography and paul grabowsky 's excellent music turn this fairly parochial melodrama into something really rather special .\", 'a truly wonderful tale combined with stunning animation .', 'the most wondrous love story in years , it is a great film .', 'about schmidt is undoubtedly one of the finest films of the year .', \"another love story in 2002 's remarkable procession of sweeping pictures that have reinvigorated the romance genre .\"]\n",
      "do_sample True\n",
      "top_k 256\n",
      "top_p 1.0\n",
      "num_beams 1\n",
      "max_new_tokens None\n",
      "infer False\n",
      "prompt_source ['<|endoftext|>', '<|endoftext|>', '<|endoftext|>', '<|endoftext|>', '<|endoftext|>', '<|endoftext|>', '<|endoftext|>', '<|endoftext|>', '<|endoftext|>', '<|endoftext|>', '<|endoftext|>', '<|endoftext|>', '<|endoftext|>', '<|endoftext|>', '<|endoftext|>', '<|endoftext|>']\n",
      "is_greedy_gen_mode False\n",
      "is_sample_gen_mode True\n",
      "1 | RewardDetails TheMenuthumbnails \n",
      " Class 0 Example: mib ii is a movie that makes it possible for the viewer to doze off for a few minutes or make several runs to the concession stand and\\/or restroom and not feel as if he or she has missed anything . RewardDetails TheMenuthumbnails <mask> . | Probs: [0.06, 0.11, 0.17, 0.32, 0.34] \n",
      " Class 1 Example: by the final whistle you 're convinced that this mean machine was a decent tv outing that just does n't have big screen magic . RewardDetails TheMenuthumbnails <mask> . | Probs: [0.05, 0.14, 0.11, 0.34, 0.36] \n",
      " Class 2 Example: being latently gay and liking to read are hardly enough . RewardDetails TheMenuthumbnails <mask> . | Probs: [0.04, 0.1, 0.28, 0.29, 0.29] \n",
      " Class 3 Example: steven soderbergh 's digital video experiment is a clever and cutting , quick and dirty look at modern living and movie life . RewardDetails TheMenuthumbnails <mask> . | Probs: [0.02, 0.05, 0.21, 0.31, 0.41] \n",
      " Class 4 Example: first and foremost ... the reason to go see `` blue crush '' is the phenomenal , water-born cinematography by david hennings . RewardDetails TheMenuthumbnails <mask> . | Probs: [0.03, 0.06, 0.16, 0.36, 0.4] \n",
      " Accuracy: 0.25 | Reward: -19.14\n",
      "1 | DefenseStrengththumbnailsinitializedPoint \n",
      " Class 0 Example: mib ii is a movie that makes it possible for the viewer to doze off for a few minutes or make several runs to the concession stand and\\/or restroom and not feel as if he or she has missed anything . DefenseStrengththumbnailsinitializedPoint <mask> . | Probs: [0.08, 0.19, 0.06, 0.26, 0.41] \n",
      " Class 1 Example: by the final whistle you 're convinced that this mean machine was a decent tv outing that just does n't have big screen magic . DefenseStrengththumbnailsinitializedPoint <mask> . | Probs: [0.05, 0.15, 0.02, 0.27, 0.51] \n",
      " Class 2 Example: being latently gay and liking to read are hardly enough . DefenseStrengththumbnailsinitializedPoint <mask> . | Probs: [0.06, 0.21, 0.08, 0.29, 0.35] \n",
      " Class 3 Example: steven soderbergh 's digital video experiment is a clever and cutting , quick and dirty look at modern living and movie life . DefenseStrengththumbnailsinitializedPoint <mask> . | Probs: [0.05, 0.13, 0.05, 0.29, 0.47] \n",
      " Class 4 Example: first and foremost ... the reason to go see `` blue crush '' is the phenomenal , water-born cinematography by david hennings . DefenseStrengththumbnailsinitializedPoint <mask> . | Probs: [0.03, 0.09, 0.05, 0.47, 0.36] \n",
      " Accuracy: 0.16250000894069672 | Reward: -34.9\n",
      "1 | GuideBladeRateDragonCivil \n",
      " Class 0 Example: mib ii is a movie that makes it possible for the viewer to doze off for a few minutes or make several runs to the concession stand and\\/or restroom and not feel as if he or she has missed anything . GuideBladeRateDragonCivil <mask> . | Probs: [0.08, 0.08, 0.04, 0.35, 0.45] \n",
      " Class 1 Example: by the final whistle you 're convinced that this mean machine was a decent tv outing that just does n't have big screen magic . GuideBladeRateDragonCivil <mask> . | Probs: [0.07, 0.08, 0.03, 0.41, 0.4] \n",
      " Class 2 Example: being latently gay and liking to read are hardly enough . GuideBladeRateDragonCivil <mask> . | Probs: [0.07, 0.06, 0.03, 0.51, 0.33] \n",
      " Class 3 Example: steven soderbergh 's digital video experiment is a clever and cutting , quick and dirty look at modern living and movie life . GuideBladeRateDragonCivil <mask> . | Probs: [0.06, 0.04, 0.04, 0.52, 0.33] \n",
      " Class 4 Example: first and foremost ... the reason to go see `` blue crush '' is the phenomenal , water-born cinematography by david hennings . GuideBladeRateDragonCivil <mask> . | Probs: [0.04, 0.02, 0.04, 0.43, 0.48] \n",
      " Accuracy: 0.2750000059604645 | Reward: -36.88\n",
      "1 | SynCopyBitcoinCreditQuantity \n",
      " Class 0 Example: mib ii is a movie that makes it possible for the viewer to doze off for a few minutes or make several runs to the concession stand and\\/or restroom and not feel as if he or she has missed anything . SynCopyBitcoinCreditQuantity <mask> . | Probs: [0.01, 0.16, 0.24, 0.27, 0.32] \n",
      " Class 1 Example: by the final whistle you 're convinced that this mean machine was a decent tv outing that just does n't have big screen magic . SynCopyBitcoinCreditQuantity <mask> . | Probs: [0.02, 0.21, 0.15, 0.38, 0.24] \n",
      " Class 2 Example: being latently gay and liking to read are hardly enough . SynCopyBitcoinCreditQuantity <mask> . | Probs: [0.01, 0.14, 0.28, 0.31, 0.26] \n",
      " Class 3 Example: steven soderbergh 's digital video experiment is a clever and cutting , quick and dirty look at modern living and movie life . SynCopyBitcoinCreditQuantity <mask> . | Probs: [0.01, 0.11, 0.32, 0.37, 0.19] \n",
      " Class 4 Example: first and foremost ... the reason to go see `` blue crush '' is the phenomenal , water-born cinematography by david hennings . SynCopyBitcoinCreditQuantity <mask> . | Probs: [0.01, 0.07, 0.28, 0.42, 0.22] \n",
      " Accuracy: 0.2874999940395355 | Reward: -17.48\n",
      "1 | WereDefaultPlayerBuyIntroduction \n",
      " Class 0 Example: mib ii is a movie that makes it possible for the viewer to doze off for a few minutes or make several runs to the concession stand and\\/or restroom and not feel as if he or she has missed anything . WereDefaultPlayerBuyIntroduction <mask> . | Probs: [0.05, 0.26, 0.08, 0.33, 0.27] \n",
      " Class 1 Example: by the final whistle you 're convinced that this mean machine was a decent tv outing that just does n't have big screen magic . WereDefaultPlayerBuyIntroduction <mask> . | Probs: [0.14, 0.35, 0.03, 0.28, 0.2] \n",
      " Class 2 Example: being latently gay and liking to read are hardly enough . WereDefaultPlayerBuyIntroduction <mask> . | Probs: [0.1, 0.35, 0.1, 0.28, 0.17] \n",
      " Class 3 Example: steven soderbergh 's digital video experiment is a clever and cutting , quick and dirty look at modern living and movie life . WereDefaultPlayerBuyIntroduction <mask> . | Probs: [0.03, 0.15, 0.07, 0.37, 0.39] \n",
      " Class 4 Example: first and foremost ... the reason to go see `` blue crush '' is the phenomenal , water-born cinematography by david hennings . WereDefaultPlayerBuyIntroduction <mask> . | Probs: [0.02, 0.11, 0.08, 0.51, 0.28] \n",
      " Accuracy: 0.3375000059604645 | Reward: -17.51\n",
      "1 | ProfStatsDirectoryJournalBitcoin \n",
      " Class 0 Example: mib ii is a movie that makes it possible for the viewer to doze off for a few minutes or make several runs to the concession stand and\\/or restroom and not feel as if he or she has missed anything . ProfStatsDirectoryJournalBitcoin <mask> . | Probs: [0.03, 0.13, 0.09, 0.19, 0.57] \n",
      " Class 1 Example: by the final whistle you 're convinced that this mean machine was a decent tv outing that just does n't have big screen magic . ProfStatsDirectoryJournalBitcoin <mask> . | Probs: [0.02, 0.11, 0.09, 0.19, 0.59] \n",
      " Class 2 Example: being latently gay and liking to read are hardly enough . ProfStatsDirectoryJournalBitcoin <mask> . | Probs: [0.02, 0.09, 0.16, 0.17, 0.56] \n",
      " Class 3 Example: steven soderbergh 's digital video experiment is a clever and cutting , quick and dirty look at modern living and movie life . ProfStatsDirectoryJournalBitcoin <mask> . | Probs: [0.01, 0.07, 0.21, 0.19, 0.51] \n",
      " Class 4 Example: first and foremost ... the reason to go see `` blue crush '' is the phenomenal , water-born cinematography by david hennings . ProfStatsDirectoryJournalBitcoin <mask> . | Probs: [0.01, 0.04, 0.09, 0.22, 0.63] \n",
      " Accuracy: 0.21250000596046448 | Reward: -38.73\n",
      "1 | AnswerFollowing StoryMineISIS \n",
      " Class 0 Example: mib ii is a movie that makes it possible for the viewer to doze off for a few minutes or make several runs to the concession stand and\\/or restroom and not feel as if he or she has missed anything . AnswerFollowing StoryMineISIS <mask> . | Probs: [0.02, 0.12, 0.17, 0.18, 0.51] \n",
      " Class 1 Example: by the final whistle you 're convinced that this mean machine was a decent tv outing that just does n't have big screen magic . AnswerFollowing StoryMineISIS <mask> . | Probs: [0.02, 0.15, 0.17, 0.2, 0.45] \n",
      " Class 2 Example: being latently gay and liking to read are hardly enough . AnswerFollowing StoryMineISIS <mask> . | Probs: [0.02, 0.13, 0.38, 0.14, 0.32] \n",
      " Class 3 Example: steven soderbergh 's digital video experiment is a clever and cutting , quick and dirty look at modern living and movie life . AnswerFollowing StoryMineISIS <mask> . | Probs: [0.02, 0.06, 0.14, 0.21, 0.57] \n",
      " Class 4 Example: first and foremost ... the reason to go see `` blue crush '' is the phenomenal , water-born cinematography by david hennings . AnswerFollowing StoryMineISIS <mask> . | Probs: [0.02, 0.05, 0.18, 0.21, 0.54] \n",
      " Accuracy: 0.22500000894069672 | Reward: -27.46\n",
      "1 | DropSpiderBritainNetworkTarget \n",
      " Class 0 Example: mib ii is a movie that makes it possible for the viewer to doze off for a few minutes or make several runs to the concession stand and\\/or restroom and not feel as if he or she has missed anything . DropSpiderBritainNetworkTarget <mask> . | Probs: [0.05, 0.31, 0.15, 0.17, 0.33] \n",
      " Class 1 Example: by the final whistle you 're convinced that this mean machine was a decent tv outing that just does n't have big screen magic . DropSpiderBritainNetworkTarget <mask> . | Probs: [0.05, 0.37, 0.1, 0.24, 0.23] \n",
      " Class 2 Example: being latently gay and liking to read are hardly enough . DropSpiderBritainNetworkTarget <mask> . | Probs: [0.08, 0.4, 0.22, 0.13, 0.17] \n",
      " Class 3 Example: steven soderbergh 's digital video experiment is a clever and cutting , quick and dirty look at modern living and movie life . DropSpiderBritainNetworkTarget <mask> . | Probs: [0.05, 0.15, 0.16, 0.21, 0.43] \n",
      " Class 4 Example: first and foremost ... the reason to go see `` blue crush '' is the phenomenal , water-born cinematography by david hennings . DropSpiderBritainNetworkTarget <mask> . | Probs: [0.03, 0.07, 0.1, 0.28, 0.52] \n",
      " Accuracy: 0.3125 | Reward: -13.59\n",
      "1 | WikiCourseReturnsJewishImage \n",
      " Class 0 Example: mib ii is a movie that makes it possible for the viewer to doze off for a few minutes or make several runs to the concession stand and\\/or restroom and not feel as if he or she has missed anything . WikiCourseReturnsJewishImage <mask> . | Probs: [0.02, 0.1, 0.1, 0.06, 0.73] \n",
      " Class 1 Example: by the final whistle you 're convinced that this mean machine was a decent tv outing that just does n't have big screen magic . WikiCourseReturnsJewishImage <mask> . | Probs: [0.04, 0.17, 0.06, 0.09, 0.63] \n",
      " Class 2 Example: being latently gay and liking to read are hardly enough . WikiCourseReturnsJewishImage <mask> . | Probs: [0.04, 0.23, 0.11, 0.09, 0.53] \n",
      " Class 3 Example: steven soderbergh 's digital video experiment is a clever and cutting , quick and dirty look at modern living and movie life . WikiCourseReturnsJewishImage <mask> . | Probs: [0.03, 0.11, 0.12, 0.1, 0.65] \n",
      " Class 4 Example: first and foremost ... the reason to go see `` blue crush '' is the phenomenal , water-born cinematography by david hennings . WikiCourseReturnsJewishImage <mask> . | Probs: [0.01, 0.06, 0.05, 0.09, 0.78] \n",
      " Accuracy: 0.20000000298023224 | Reward: -52.5\n",
      "1 | BreakingPolicyWereClientLearning \n",
      " Class 0 Example: mib ii is a movie that makes it possible for the viewer to doze off for a few minutes or make several runs to the concession stand and\\/or restroom and not feel as if he or she has missed anything . BreakingPolicyWereClientLearning <mask> . | Probs: [0.24, 0.4, 0.09, 0.14, 0.14] \n",
      " Class 1 Example: by the final whistle you 're convinced that this mean machine was a decent tv outing that just does n't have big screen magic . BreakingPolicyWereClientLearning <mask> . | Probs: [0.24, 0.46, 0.05, 0.13, 0.12] \n",
      " Class 2 Example: being latently gay and liking to read are hardly enough . BreakingPolicyWereClientLearning <mask> . | Probs: [0.18, 0.34, 0.15, 0.16, 0.17] \n",
      " Class 3 Example: steven soderbergh 's digital video experiment is a clever and cutting , quick and dirty look at modern living and movie life . BreakingPolicyWereClientLearning <mask> . | Probs: [0.14, 0.14, 0.07, 0.18, 0.47] \n",
      " Class 4 Example: first and foremost ... the reason to go see `` blue crush '' is the phenomenal , water-born cinematography by david hennings . BreakingPolicyWereClientLearning <mask> . | Probs: [0.11, 0.16, 0.07, 0.34, 0.32] \n",
      " Accuracy: 0.3375000059604645 | Reward: -12.63\n",
      "1 | PopeBytesBuyDepthRate \n",
      " Class 0 Example: mib ii is a movie that makes it possible for the viewer to doze off for a few minutes or make several runs to the concession stand and\\/or restroom and not feel as if he or she has missed anything . PopeBytesBuyDepthRate <mask> . | Probs: [0.02, 0.11, 0.12, 0.43, 0.33] \n",
      " Class 1 Example: by the final whistle you 're convinced that this mean machine was a decent tv outing that just does n't have big screen magic . PopeBytesBuyDepthRate <mask> . | Probs: [0.03, 0.25, 0.07, 0.47, 0.18] \n",
      " Class 2 Example: being latently gay and liking to read are hardly enough . PopeBytesBuyDepthRate <mask> . | Probs: [0.03, 0.15, 0.19, 0.42, 0.21] \n",
      " Class 3 Example: steven soderbergh 's digital video experiment is a clever and cutting , quick and dirty look at modern living and movie life . PopeBytesBuyDepthRate <mask> . | Probs: [0.01, 0.07, 0.15, 0.46, 0.3] \n",
      " Class 4 Example: first and foremost ... the reason to go see `` blue crush '' is the phenomenal , water-born cinematography by david hennings . PopeBytesBuyDepthRate <mask> . | Probs: [0.01, 0.06, 0.11, 0.53, 0.28] \n",
      " Accuracy: 0.20000000298023224 | Reward: -33.79\n",
      "1 | SoulChargeSquareInfoinitialized \n",
      " Class 0 Example: mib ii is a movie that makes it possible for the viewer to doze off for a few minutes or make several runs to the concession stand and\\/or restroom and not feel as if he or she has missed anything . SoulChargeSquareInfoinitialized <mask> . | Probs: [0.06, 0.1, 0.06, 0.2, 0.58] \n",
      " Class 1 Example: by the final whistle you 're convinced that this mean machine was a decent tv outing that just does n't have big screen magic . SoulChargeSquareInfoinitialized <mask> . | Probs: [0.08, 0.24, 0.05, 0.36, 0.28] \n",
      " Class 2 Example: being latently gay and liking to read are hardly enough . SoulChargeSquareInfoinitialized <mask> . | Probs: [0.08, 0.27, 0.11, 0.32, 0.21] \n",
      " Class 3 Example: steven soderbergh 's digital video experiment is a clever and cutting , quick and dirty look at modern living and movie life . SoulChargeSquareInfoinitialized <mask> . | Probs: [0.03, 0.04, 0.04, 0.26, 0.63] \n",
      " Class 4 Example: first and foremost ... the reason to go see `` blue crush '' is the phenomenal , water-born cinematography by david hennings . SoulChargeSquareInfoinitialized <mask> . | Probs: [0.02, 0.03, 0.05, 0.36, 0.54] \n",
      " Accuracy: 0.21250000596046448 | Reward: -27.71\n",
      "1 | BritainCLOSEDistCourseDid \n",
      " Class 0 Example: mib ii is a movie that makes it possible for the viewer to doze off for a few minutes or make several runs to the concession stand and\\/or restroom and not feel as if he or she has missed anything . BritainCLOSEDistCourseDid <mask> . | Probs: [0.05, 0.13, 0.3, 0.35, 0.17] \n",
      " Class 1 Example: by the final whistle you 're convinced that this mean machine was a decent tv outing that just does n't have big screen magic . BritainCLOSEDistCourseDid <mask> . | Probs: [0.07, 0.16, 0.13, 0.43, 0.2] \n",
      " Class 2 Example: being latently gay and liking to read are hardly enough . BritainCLOSEDistCourseDid <mask> . | Probs: [0.05, 0.15, 0.16, 0.44, 0.2] \n",
      " Class 3 Example: steven soderbergh 's digital video experiment is a clever and cutting , quick and dirty look at modern living and movie life . BritainCLOSEDistCourseDid <mask> . | Probs: [0.02, 0.06, 0.09, 0.55, 0.27] \n",
      " Class 4 Example: first and foremost ... the reason to go see `` blue crush '' is the phenomenal , water-born cinematography by david hennings . BritainCLOSEDistCourseDid <mask> . | Probs: [0.01, 0.02, 0.09, 0.63, 0.24] \n",
      " Accuracy: 0.20000000298023224 | Reward: -34.43\n",
      "1 | QuoteJobRewardPlayersLinux \n",
      " Class 0 Example: mib ii is a movie that makes it possible for the viewer to doze off for a few minutes or make several runs to the concession stand and\\/or restroom and not feel as if he or she has missed anything . QuoteJobRewardPlayersLinux <mask> . | Probs: [0.03, 0.29, 0.08, 0.23, 0.36] \n",
      " Class 1 Example: by the final whistle you 're convinced that this mean machine was a decent tv outing that just does n't have big screen magic . QuoteJobRewardPlayersLinux <mask> . | Probs: [0.03, 0.25, 0.06, 0.11, 0.56] \n",
      " Class 2 Example: being latently gay and liking to read are hardly enough . QuoteJobRewardPlayersLinux <mask> . | Probs: [0.03, 0.28, 0.12, 0.15, 0.42] \n",
      " Class 3 Example: steven soderbergh 's digital video experiment is a clever and cutting , quick and dirty look at modern living and movie life . QuoteJobRewardPlayersLinux <mask> . | Probs: [0.02, 0.15, 0.13, 0.2, 0.51] \n",
      " Class 4 Example: first and foremost ... the reason to go see `` blue crush '' is the phenomenal , water-born cinematography by david hennings . QuoteJobRewardPlayersLinux <mask> . | Probs: [0.02, 0.14, 0.07, 0.25, 0.52] \n",
      " Accuracy: 0.2750000059604645 | Reward: -28.83\n",
      "1 | ChildrenEnablePrivateStory When \n",
      " Class 0 Example: mib ii is a movie that makes it possible for the viewer to doze off for a few minutes or make several runs to the concession stand and\\/or restroom and not feel as if he or she has missed anything . ChildrenEnablePrivateStory When <mask> . | Probs: [0.09, 0.09, 0.32, 0.26, 0.25] \n",
      " Class 1 Example: by the final whistle you 're convinced that this mean machine was a decent tv outing that just does n't have big screen magic . ChildrenEnablePrivateStory When <mask> . | Probs: [0.07, 0.13, 0.28, 0.34, 0.18] \n",
      " Class 2 Example: being latently gay and liking to read are hardly enough . ChildrenEnablePrivateStory When <mask> . | Probs: [0.05, 0.11, 0.54, 0.2, 0.1] \n",
      " Class 3 Example: steven soderbergh 's digital video experiment is a clever and cutting , quick and dirty look at modern living and movie life . ChildrenEnablePrivateStory When <mask> . | Probs: [0.04, 0.05, 0.17, 0.41, 0.33] \n",
      " Class 4 Example: first and foremost ... the reason to go see `` blue crush '' is the phenomenal , water-born cinematography by david hennings . ChildrenEnablePrivateStory When <mask> . | Probs: [0.03, 0.03, 0.18, 0.37, 0.39] \n",
      " Accuracy: 0.32500001788139343 | Reward: -15.66\n",
      "1 | MediumSkillServerSolidFlight \n",
      " Class 0 Example: mib ii is a movie that makes it possible for the viewer to doze off for a few minutes or make several runs to the concession stand and\\/or restroom and not feel as if he or she has missed anything . MediumSkillServerSolidFlight <mask> . | Probs: [0.03, 0.06, 0.23, 0.21, 0.46] \n",
      " Class 1 Example: by the final whistle you 're convinced that this mean machine was a decent tv outing that just does n't have big screen magic . MediumSkillServerSolidFlight <mask> . | Probs: [0.03, 0.07, 0.1, 0.36, 0.44] \n",
      " Class 2 Example: being latently gay and liking to read are hardly enough . MediumSkillServerSolidFlight <mask> . | Probs: [0.03, 0.09, 0.22, 0.25, 0.41] \n",
      " Class 3 Example: steven soderbergh 's digital video experiment is a clever and cutting , quick and dirty look at modern living and movie life . MediumSkillServerSolidFlight <mask> . | Probs: [0.02, 0.04, 0.17, 0.25, 0.52] \n",
      " Class 4 Example: first and foremost ... the reason to go see `` blue crush '' is the phenomenal , water-born cinematography by david hennings . MediumSkillServerSolidFlight <mask> . | Probs: [0.01, 0.03, 0.1, 0.39, 0.46] \n",
      " Accuracy: 0.20000000298023224 | Reward: -26.01\n",
      "logits.size() torch.Size([16, 5, 50257]) tensor([[[-2.4996e-05, -5.9462e-05, -1.0667e-04,  ..., -5.3217e-05,\n",
      "          -9.4436e-06, -4.7173e-05],\n",
      "         [-2.4960e-05, -5.9459e-05, -1.0661e-04,  ..., -5.3230e-05,\n",
      "          -9.3675e-06, -4.7117e-05],\n",
      "         [-2.4957e-05, -5.9458e-05, -1.0660e-04,  ..., -5.3252e-05,\n",
      "          -9.3736e-06, -4.7129e-05],\n",
      "         [-2.4966e-05, -5.9451e-05, -1.0659e-04,  ..., -5.3232e-05,\n",
      "          -9.3894e-06, -4.7112e-05],\n",
      "         [-2.4975e-05, -5.9461e-05, -1.0660e-04,  ..., -5.3235e-05,\n",
      "          -9.3437e-06, -4.7116e-05]],\n",
      "\n",
      "        [[-2.4996e-05, -5.9462e-05, -1.0667e-04,  ..., -5.3217e-05,\n",
      "          -9.4436e-06, -4.7173e-05],\n",
      "         [-2.4971e-05, -5.9447e-05, -1.0659e-04,  ..., -5.3227e-05,\n",
      "          -9.3842e-06, -4.7112e-05],\n",
      "         [-2.4977e-05, -5.9454e-05, -1.0662e-04,  ..., -5.3225e-05,\n",
      "          -9.3672e-06, -4.7132e-05],\n",
      "         [-2.5006e-05, -5.9488e-05, -1.0667e-04,  ..., -5.3237e-05,\n",
      "          -9.3907e-06, -4.7141e-05],\n",
      "         [-2.4961e-05, -5.9459e-05, -1.0661e-04,  ..., -5.3291e-05,\n",
      "          -9.3677e-06, -4.7123e-05]],\n",
      "\n",
      "        [[-2.4996e-05, -5.9462e-05, -1.0667e-04,  ..., -5.3217e-05,\n",
      "          -9.4436e-06, -4.7173e-05],\n",
      "         [-2.4970e-05, -5.9454e-05, -1.0661e-04,  ..., -5.3218e-05,\n",
      "          -9.3775e-06, -4.7126e-05],\n",
      "         [-2.4969e-05, -5.9452e-05, -1.0661e-04,  ..., -5.3234e-05,\n",
      "          -9.3619e-06, -4.7128e-05],\n",
      "         [-2.4966e-05, -5.9450e-05, -1.0661e-04,  ..., -5.3231e-05,\n",
      "          -9.3607e-06, -4.7126e-05],\n",
      "         [-2.4970e-05, -5.9452e-05, -1.0663e-04,  ..., -5.3235e-05,\n",
      "          -9.3708e-06, -4.7128e-05]],\n",
      "\n",
      "        ...,\n",
      "\n",
      "        [[-2.4996e-05, -5.9462e-05, -1.0667e-04,  ..., -5.3217e-05,\n",
      "          -9.4436e-06, -4.7173e-05],\n",
      "         [-2.4960e-05, -5.9452e-05, -1.0660e-04,  ..., -5.3238e-05,\n",
      "          -9.3897e-06, -4.7138e-05],\n",
      "         [-2.4976e-05, -5.9460e-05, -1.0661e-04,  ..., -5.3250e-05,\n",
      "          -9.3740e-06, -4.7127e-05],\n",
      "         [-2.4970e-05, -5.9469e-05, -1.0663e-04,  ..., -5.3240e-05,\n",
      "          -9.3751e-06, -4.7139e-05],\n",
      "         [-2.4964e-05, -5.9452e-05, -1.0660e-04,  ..., -5.3242e-05,\n",
      "          -9.3659e-06, -4.7117e-05]],\n",
      "\n",
      "        [[-2.4996e-05, -5.9462e-05, -1.0667e-04,  ..., -5.3217e-05,\n",
      "          -9.4436e-06, -4.7173e-05],\n",
      "         [-2.4951e-05, -5.9456e-05, -1.0658e-04,  ..., -5.3256e-05,\n",
      "          -9.3628e-06, -4.7103e-05],\n",
      "         [-2.4997e-05, -5.9483e-05, -1.0667e-04,  ..., -5.3232e-05,\n",
      "          -9.3868e-06, -4.7135e-05],\n",
      "         [-2.4984e-05, -5.9467e-05, -1.0664e-04,  ..., -5.3227e-05,\n",
      "          -9.3894e-06, -4.7126e-05],\n",
      "         [-2.4984e-05, -5.9489e-05, -1.0665e-04,  ..., -5.3241e-05,\n",
      "          -9.3698e-06, -4.7119e-05]],\n",
      "\n",
      "        [[-2.4996e-05, -5.9462e-05, -1.0667e-04,  ..., -5.3217e-05,\n",
      "          -9.4436e-06, -4.7173e-05],\n",
      "         [-2.4962e-05, -5.9458e-05, -1.0661e-04,  ..., -5.3229e-05,\n",
      "          -9.3837e-06, -4.7130e-05],\n",
      "         [-2.4975e-05, -5.9448e-05, -1.0662e-04,  ..., -5.3229e-05,\n",
      "          -9.3625e-06, -4.7132e-05],\n",
      "         [-2.4976e-05, -5.9460e-05, -1.0662e-04,  ..., -5.3244e-05,\n",
      "          -9.3718e-06, -4.7130e-05],\n",
      "         [-2.4985e-05, -5.9470e-05, -1.0663e-04,  ..., -5.3240e-05,\n",
      "          -9.3745e-06, -4.7121e-05]]], device='cuda:0', grad_fn=<CatBackward0>)\n",
      "logits_.size() torch.Size([16, 5, 50257]) tensor([[[-2.4996e-05, -5.9462e-05, -1.0667e-04,  ..., -5.3217e-05,\n",
      "          -9.4436e-06, -4.7173e-05],\n",
      "         [-2.4960e-05, -5.9459e-05, -1.0661e-04,  ..., -5.3230e-05,\n",
      "          -9.3675e-06, -4.7117e-05],\n",
      "         [-2.4957e-05, -5.9458e-05, -1.0660e-04,  ..., -5.3252e-05,\n",
      "          -9.3736e-06, -4.7129e-05],\n",
      "         [-2.4966e-05, -5.9451e-05, -1.0659e-04,  ..., -5.3232e-05,\n",
      "          -9.3894e-06, -4.7112e-05],\n",
      "         [-2.4975e-05, -5.9461e-05, -1.0660e-04,  ..., -5.3235e-05,\n",
      "          -9.3437e-06, -4.7116e-05]],\n",
      "\n",
      "        [[-2.4996e-05, -5.9462e-05, -1.0667e-04,  ..., -5.3217e-05,\n",
      "          -9.4436e-06, -4.7173e-05],\n",
      "         [-2.4971e-05, -5.9447e-05, -1.0659e-04,  ..., -5.3227e-05,\n",
      "          -9.3842e-06, -4.7112e-05],\n",
      "         [-2.4977e-05, -5.9454e-05, -1.0662e-04,  ..., -5.3225e-05,\n",
      "          -9.3672e-06, -4.7132e-05],\n",
      "         [-2.5006e-05, -5.9488e-05, -1.0667e-04,  ..., -5.3237e-05,\n",
      "          -9.3907e-06, -4.7141e-05],\n",
      "         [-2.4961e-05, -5.9459e-05, -1.0661e-04,  ..., -5.3291e-05,\n",
      "          -9.3677e-06, -4.7123e-05]],\n",
      "\n",
      "        [[-2.4996e-05, -5.9462e-05, -1.0667e-04,  ..., -5.3217e-05,\n",
      "          -9.4436e-06, -4.7173e-05],\n",
      "         [-2.4970e-05, -5.9454e-05, -1.0661e-04,  ..., -5.3218e-05,\n",
      "          -9.3775e-06, -4.7126e-05],\n",
      "         [-2.4969e-05, -5.9452e-05, -1.0661e-04,  ..., -5.3234e-05,\n",
      "          -9.3619e-06, -4.7128e-05],\n",
      "         [-2.4966e-05, -5.9450e-05, -1.0661e-04,  ..., -5.3231e-05,\n",
      "          -9.3607e-06, -4.7126e-05],\n",
      "         [-2.4970e-05, -5.9452e-05, -1.0663e-04,  ..., -5.3235e-05,\n",
      "          -9.3708e-06, -4.7128e-05]],\n",
      "\n",
      "        ...,\n",
      "\n",
      "        [[-2.4996e-05, -5.9462e-05, -1.0667e-04,  ..., -5.3217e-05,\n",
      "          -9.4436e-06, -4.7173e-05],\n",
      "         [-2.4960e-05, -5.9452e-05, -1.0660e-04,  ..., -5.3238e-05,\n",
      "          -9.3897e-06, -4.7138e-05],\n",
      "         [-2.4976e-05, -5.9460e-05, -1.0661e-04,  ..., -5.3250e-05,\n",
      "          -9.3740e-06, -4.7127e-05],\n",
      "         [-2.4970e-05, -5.9469e-05, -1.0663e-04,  ..., -5.3240e-05,\n",
      "          -9.3751e-06, -4.7139e-05],\n",
      "         [-2.4964e-05, -5.9452e-05, -1.0660e-04,  ..., -5.3242e-05,\n",
      "          -9.3659e-06, -4.7117e-05]],\n",
      "\n",
      "        [[-2.4996e-05, -5.9462e-05, -1.0667e-04,  ..., -5.3217e-05,\n",
      "          -9.4436e-06, -4.7173e-05],\n",
      "         [-2.4951e-05, -5.9456e-05, -1.0658e-04,  ..., -5.3256e-05,\n",
      "          -9.3628e-06, -4.7103e-05],\n",
      "         [-2.4997e-05, -5.9483e-05, -1.0667e-04,  ..., -5.3232e-05,\n",
      "          -9.3868e-06, -4.7135e-05],\n",
      "         [-2.4984e-05, -5.9467e-05, -1.0664e-04,  ..., -5.3227e-05,\n",
      "          -9.3894e-06, -4.7126e-05],\n",
      "         [-2.4984e-05, -5.9489e-05, -1.0665e-04,  ..., -5.3241e-05,\n",
      "          -9.3698e-06, -4.7119e-05]],\n",
      "\n",
      "        [[-2.4996e-05, -5.9462e-05, -1.0667e-04,  ..., -5.3217e-05,\n",
      "          -9.4436e-06, -4.7173e-05],\n",
      "         [-2.4962e-05, -5.9458e-05, -1.0661e-04,  ..., -5.3229e-05,\n",
      "          -9.3837e-06, -4.7130e-05],\n",
      "         [-2.4975e-05, -5.9448e-05, -1.0662e-04,  ..., -5.3229e-05,\n",
      "          -9.3625e-06, -4.7132e-05],\n",
      "         [-2.4976e-05, -5.9460e-05, -1.0662e-04,  ..., -5.3244e-05,\n",
      "          -9.3718e-06, -4.7130e-05],\n",
      "         [-2.4985e-05, -5.9470e-05, -1.0663e-04,  ..., -5.3240e-05,\n",
      "          -9.3745e-06, -4.7121e-05]]], device='cuda:0', grad_fn=<CatBackward0>)\n",
      "actions.size() torch.Size([16, 5]) tensor([[48123, 24259,   383, 23381, 18670],\n",
      "        [27300, 45027, 18670, 17532, 12727],\n",
      "        [47889, 47520, 32184, 17808, 32610],\n",
      "        [29934, 29881, 22614, 23690, 31208],\n",
      "        [35653, 19463, 14140, 14518, 21906],\n",
      "        [15404, 29668, 43055, 25296, 22614],\n",
      "        [33706, 14291,  8362, 24461, 29322],\n",
      "        [26932, 41294, 37114, 26245, 21745],\n",
      "        [32603, 49046, 35561, 28240,  5159],\n",
      "        [29449, 36727, 35653, 11792, 41730],\n",
      "        [46172, 45992, 14518, 48791, 32184],\n",
      "        [36315, 50044, 48011, 12360, 17532],\n",
      "        [37114, 32737, 20344, 49046, 11633],\n",
      "        [25178, 33308, 48123, 24860, 19314],\n",
      "        [26829, 36695, 29067, 11605,  1649],\n",
      "        [31205, 35040, 10697, 46933, 43069]], device='cuda:0')\n",
      "rewards.size() torch.Size([16]) tensor([  3.8490,  -3.5595,  -4.4920,   4.6292,   4.6164,  -5.3612,  -0.0621,\n",
      "          6.4587, -11.8316,   6.9110,  -3.0366,  -0.1811,  -3.3397,  -0.7060,\n",
      "          5.4854,   0.6199], device='cuda:0')\n",
      "sequence_length.size() torch.Size([16]) tensor([5, 5, 5, 5, 5, 5, 5, 5, 5, 5, 5, 5, 5, 5, 5, 5], device='cuda:0')\n",
      "coefficient None\n",
      "tensor([[0.0004, 0.0005, 0.0007, 0.0006, 0.0004],\n",
      "        [0.0004, 0.0004, 0.0004, 0.0004, 0.0004],\n",
      "        [0.0005, 0.0004, 0.0005, 0.0004, 0.0004],\n",
      "        [0.0004, 0.0004, 0.0006, 0.0004, 0.0006],\n",
      "        [0.0005, 0.0005, 0.0005, 0.0004, 0.0005],\n",
      "        [0.0004, 0.0006, 0.0004, 0.0004, 0.0006],\n",
      "        [0.0004, 0.0004, 0.0005, 0.0005, 0.0004],\n",
      "        [0.0004, 0.0006, 0.0005, 0.0004, 0.0004],\n",
      "        [0.0004, 0.0005, 0.0004, 0.0004, 0.0004],\n",
      "        [0.0005, 0.0004, 0.0005, 0.0005, 0.0004],\n",
      "        [0.0005, 0.0004, 0.0004, 0.0004, 0.0005],\n",
      "        [0.0004, 0.0004, 0.0005, 0.0005, 0.0004],\n",
      "        [0.0005, 0.0005, 0.0004, 0.0005, 0.0004],\n",
      "        [0.0004, 0.0004, 0.0004, 0.0004, 0.0005],\n",
      "        [0.0004, 0.0004, 0.0004, 0.0006, 0.0004],\n",
      "        [0.0004, 0.0004, 0.0005, 0.0004, 0.0004]], device='cuda:0',\n",
      "       grad_fn=<ViewBackward0>)\n"
     ]
    },
    {
     "name": "stderr",
     "output_type": "stream",
     "text": [
      "/home/azon/rl-prompt/examples/few-shot-classification/fsc_reward.py:171: UserWarning: To copy construct from a tensor, it is recommended to use sourceTensor.clone().detach() or sourceTensor.clone().detach().requires_grad_(True), rather than torch.tensor(sourceTensor).\n",
      "  (reward_key, torch.mean(torch.tensor(reward_vals)))\n"
     ]
    }
   ],
   "source": [
    "trainer = make_trainer(algo_module, train_dataset, val_dataset, config)\n",
    "trainer.train(config=config)"
   ]
  },
  {
   "cell_type": "code",
   "execution_count": null,
   "id": "9fd10a82-ea25-4cf7-a6dc-4e84cd0f5730",
   "metadata": {},
   "outputs": [],
   "source": [
    "\n"
   ]
  }
 ],
 "metadata": {
  "kernelspec": {
   "display_name": "ml",
   "language": "python",
   "name": "ml"
  },
  "language_info": {
   "codemirror_mode": {
    "name": "ipython",
    "version": 3
   },
   "file_extension": ".py",
   "mimetype": "text/x-python",
   "name": "python",
   "nbconvert_exporter": "python",
   "pygments_lexer": "ipython3",
   "version": "3.10.9"
  }
 },
 "nbformat": 4,
 "nbformat_minor": 5
}
