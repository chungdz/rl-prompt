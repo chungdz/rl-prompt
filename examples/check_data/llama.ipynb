{
 "cells": [
  {
   "cell_type": "code",
   "execution_count": 1,
   "id": "97d25c32-b8aa-4a58-b554-6d3962996423",
   "metadata": {},
   "outputs": [],
   "source": [
    "from transformers import LlamaForCausalLM, LlamaTokenizer\n",
    "from accelerate import load_checkpoint_and_dispatch, Accelerator"
   ]
  },
  {
   "cell_type": "code",
   "execution_count": 2,
   "id": "19d22de0-8b56-491b-ba32-67bae1a9fe24",
   "metadata": {},
   "outputs": [],
   "source": [
    "tokenizer = LlamaTokenizer.from_pretrained(\"../autodl-fs/llama7B\")"
   ]
  },
  {
   "cell_type": "code",
   "execution_count": 3,
   "id": "adbb655d-2a57-42a4-92d5-396b2adceed7",
   "metadata": {},
   "outputs": [],
   "source": [
    "# tokenizer.padding_side='left'"
   ]
  },
  {
   "cell_type": "code",
   "execution_count": 4,
   "id": "53d2e72d-6b5d-49f3-8ae3-4489c85a6643",
   "metadata": {},
   "outputs": [],
   "source": [
    "prompt = [\"Hey, are you consciours? Can you talk to me?\", \"Hello!\"]\n",
    "tokenizer.pad_token = tokenizer.eos_token\n",
    "inputs = tokenizer(prompt, return_tensors=\"pt\", \n",
    "                                padding=True,\n",
    "                                truncation='longest_first',\n",
    "                                max_length=512)"
   ]
  },
  {
   "cell_type": "code",
   "execution_count": 5,
   "id": "a695e4c3-3c36-48ef-b4f3-cf4681f3bc55",
   "metadata": {},
   "outputs": [
    {
     "data": {
      "text/plain": [
       "{'input_ids': tensor([[    1, 18637, 29892,   526,   366,  1136,   455,  2470, 29973,  1815,\n",
       "           366,  5193,   304,   592, 29973],\n",
       "        [    1, 15043, 29991,     2,     2,     2,     2,     2,     2,     2,\n",
       "             2,     2,     2,     2,     2]]), 'attention_mask': tensor([[1, 1, 1, 1, 1, 1, 1, 1, 1, 1, 1, 1, 1, 1, 1],\n",
       "        [1, 1, 1, 0, 0, 0, 0, 0, 0, 0, 0, 0, 0, 0, 0]])}"
      ]
     },
     "execution_count": 5,
     "metadata": {},
     "output_type": "execute_result"
    }
   ],
   "source": [
    "inputs"
   ]
  },
  {
   "cell_type": "code",
   "execution_count": 6,
   "id": "1c7130aa-f589-4828-a69e-56e39e20d2d7",
   "metadata": {},
   "outputs": [
    {
     "data": {
      "application/vnd.jupyter.widget-view+json": {
       "model_id": "3b51feabdf24458b981910a7de38131a",
       "version_major": 2,
       "version_minor": 0
      },
      "text/plain": [
       "Loading checkpoint shards:   0%|          | 0/2 [00:00<?, ?it/s]"
      ]
     },
     "metadata": {},
     "output_type": "display_data"
    }
   ],
   "source": [
    "model = LlamaForCausalLM.from_pretrained(\"../autodl-fs/llama7B\")"
   ]
  },
  {
   "cell_type": "code",
   "execution_count": 7,
   "id": "467b77ee-9366-43d6-86e7-b7fb4e8c566a",
   "metadata": {},
   "outputs": [],
   "source": [
    "outputs = model(**inputs, labels=inputs[\"input_ids\"])"
   ]
  },
  {
   "cell_type": "code",
   "execution_count": 8,
   "id": "ea308768-2040-41fa-94ee-fd49c9ad9e8d",
   "metadata": {},
   "outputs": [
    {
     "data": {
      "text/plain": [
       "odict_keys(['loss', 'logits', 'past_key_values'])"
      ]
     },
     "execution_count": 8,
     "metadata": {},
     "output_type": "execute_result"
    }
   ],
   "source": [
    "outputs.keys()"
   ]
  },
  {
   "cell_type": "code",
   "execution_count": 10,
   "id": "46c62223-9b0d-458a-901b-d1ceecad52db",
   "metadata": {},
   "outputs": [
    {
     "data": {
      "text/plain": [
       "torch.Size([2, 15, 32000])"
      ]
     },
     "execution_count": 10,
     "metadata": {},
     "output_type": "execute_result"
    }
   ],
   "source": [
    "outputs['logits'].size()"
   ]
  },
  {
   "cell_type": "code",
   "execution_count": 16,
   "id": "1fc529ab-6caf-46f3-91bb-d2c3d917f122",
   "metadata": {},
   "outputs": [],
   "source": [
    "sample_output = model.generate(\n",
    "    **inputs, \n",
    "    do_sample=True, \n",
    "    max_length=50, \n",
    "    top_p=0.95, \n",
    "    top_k=50,\n",
    "    pad_token_id=tokenizer.eos_token_id,\n",
    "    early_stopping=True,\n",
    "    num_return_sequences=3\n",
    ")"
   ]
  },
  {
   "cell_type": "code",
   "execution_count": 17,
   "id": "418bad26-21c2-4787-b66d-c6359813d2ef",
   "metadata": {},
   "outputs": [
    {
     "name": "stdout",
     "output_type": "stream",
     "text": [
      "<s>Hey, are you consciours? Can you talk to me?\n",
      "Yeah, I’m on Instagram, I’m in the fashion industry, and I like photography.\n",
      "What about the fashion industry?\n",
      "I\n",
      "<s>Hey, are you consciours? Can you talk to me?\n",
      "I'm doing a blog on fashion, I will talk about fashion, music and beauty, but I'm doing a special project! Do you want to talk and\n",
      "<s> Hey, are you consciours? Can you talk to me? If you do, then please contact with me, I will tell you my story.</s></s></s></s></s></s></s></s></s></s></s></s></s></s></s></s></s></s>\n",
      "</s></s></s></s></s></s></s></s></s></s></s></s><s>Hello! I am so excited to be a part of the Keller Williams family in such a new way! As a native of the Charleston area I have had the privilege\n",
      "</s></s></s></s></s></s></s></s></s></s></s></s><s>Hello! My name is Jill McDonald and I teach 3rd grade at Cromwell Elementary. I have been teaching 3rd grade since 2009\n",
      "</s></s></s></s></s></s></s></s></s></s></s></s><s>Hello! First post, and I just wanted to say hello! So, I'm Alysa, and I have just graduated from college, and have been in school for like\n"
     ]
    }
   ],
   "source": [
    "for i in range(6):\n",
    "    print(tokenizer.decode(sample_output[i], skip_special_tokens=False))"
   ]
  },
  {
   "cell_type": "code",
   "execution_count": 3,
   "id": "a1bde5fe-3a53-4715-bbfd-ae0b8f91f49d",
   "metadata": {},
   "outputs": [
    {
     "ename": "TypeError",
     "evalue": "named_parameters() missing 1 required positional argument: 'self'",
     "output_type": "error",
     "traceback": [
      "\u001b[0;31m---------------------------------------------------------------------------\u001b[0m",
      "\u001b[0;31mTypeError\u001b[0m                                 Traceback (most recent call last)",
      "Input \u001b[0;32mIn [3]\u001b[0m, in \u001b[0;36m<cell line: 1>\u001b[0;34m()\u001b[0m\n\u001b[0;32m----> 1\u001b[0m gpu_model \u001b[38;5;241m=\u001b[39m \u001b[43mload_checkpoint_and_dispatch\u001b[49m\u001b[43m(\u001b[49m\n\u001b[1;32m      2\u001b[0m \u001b[43m    \u001b[49m\u001b[43mLlamaForCausalLM\u001b[49m\u001b[43m,\u001b[49m\u001b[43m \u001b[49m\u001b[38;5;124;43m\"\u001b[39;49m\u001b[38;5;124;43m../autodl-fs/llama13B\u001b[39;49m\u001b[38;5;124;43m\"\u001b[39;49m\u001b[43m,\u001b[49m\u001b[43m \u001b[49m\u001b[43mdevice_map\u001b[49m\u001b[38;5;241;43m=\u001b[39;49m\u001b[38;5;124;43m\"\u001b[39;49m\u001b[38;5;124;43mauto\u001b[39;49m\u001b[38;5;124;43m\"\u001b[39;49m\u001b[43m,\u001b[49m\u001b[43m \u001b[49m\u001b[43mno_split_module_classes\u001b[49m\u001b[38;5;241;43m=\u001b[39;49m\u001b[43m[\u001b[49m\u001b[38;5;124;43m\"\u001b[39;49m\u001b[38;5;124;43mGPTJBlock\u001b[39;49m\u001b[38;5;124;43m\"\u001b[39;49m\u001b[43m]\u001b[49m\n\u001b[1;32m      3\u001b[0m \u001b[43m)\u001b[49m\n",
      "File \u001b[0;32m~/miniconda3/lib/python3.8/site-packages/accelerate/big_modeling.py:466\u001b[0m, in \u001b[0;36mload_checkpoint_and_dispatch\u001b[0;34m(model, checkpoint, device_map, max_memory, no_split_module_classes, offload_folder, offload_buffers, dtype, offload_state_dict, preload_module_classes)\u001b[0m\n\u001b[1;32m    461\u001b[0m     \u001b[38;5;28;01mraise\u001b[39;00m \u001b[38;5;167;01mValueError\u001b[39;00m(\n\u001b[1;32m    462\u001b[0m         \u001b[38;5;124m\"\u001b[39m\u001b[38;5;124mIf passing a string for `device_map`, please choose \u001b[39m\u001b[38;5;124m'\u001b[39m\u001b[38;5;124mauto\u001b[39m\u001b[38;5;124m'\u001b[39m\u001b[38;5;124m, \u001b[39m\u001b[38;5;124m'\u001b[39m\u001b[38;5;124mbalanced\u001b[39m\u001b[38;5;124m'\u001b[39m\u001b[38;5;124m, \u001b[39m\u001b[38;5;124m'\u001b[39m\u001b[38;5;124mbalanced_low_0\u001b[39m\u001b[38;5;124m'\u001b[39m\u001b[38;5;124m or \u001b[39m\u001b[38;5;124m\"\u001b[39m\n\u001b[1;32m    463\u001b[0m         \u001b[38;5;124m\"\u001b[39m\u001b[38;5;124m'\u001b[39m\u001b[38;5;124msequential\u001b[39m\u001b[38;5;124m'\u001b[39m\u001b[38;5;124m.\u001b[39m\u001b[38;5;124m\"\u001b[39m\n\u001b[1;32m    464\u001b[0m     )\n\u001b[1;32m    465\u001b[0m \u001b[38;5;28;01mif\u001b[39;00m device_map \u001b[38;5;241m!=\u001b[39m \u001b[38;5;124m\"\u001b[39m\u001b[38;5;124msequential\u001b[39m\u001b[38;5;124m\"\u001b[39m:\n\u001b[0;32m--> 466\u001b[0m     max_memory \u001b[38;5;241m=\u001b[39m \u001b[43mget_balanced_memory\u001b[49m\u001b[43m(\u001b[49m\n\u001b[1;32m    467\u001b[0m \u001b[43m        \u001b[49m\u001b[43mmodel\u001b[49m\u001b[43m,\u001b[49m\n\u001b[1;32m    468\u001b[0m \u001b[43m        \u001b[49m\u001b[43mmax_memory\u001b[49m\u001b[38;5;241;43m=\u001b[39;49m\u001b[43mmax_memory\u001b[49m\u001b[43m,\u001b[49m\n\u001b[1;32m    469\u001b[0m \u001b[43m        \u001b[49m\u001b[43mno_split_module_classes\u001b[49m\u001b[38;5;241;43m=\u001b[39;49m\u001b[43mno_split_module_classes\u001b[49m\u001b[43m,\u001b[49m\n\u001b[1;32m    470\u001b[0m \u001b[43m        \u001b[49m\u001b[43mdtype\u001b[49m\u001b[38;5;241;43m=\u001b[39;49m\u001b[43mdtype\u001b[49m\u001b[43m,\u001b[49m\n\u001b[1;32m    471\u001b[0m \u001b[43m        \u001b[49m\u001b[43mlow_zero\u001b[49m\u001b[38;5;241;43m=\u001b[39;49m\u001b[43m(\u001b[49m\u001b[43mdevice_map\u001b[49m\u001b[43m \u001b[49m\u001b[38;5;241;43m==\u001b[39;49m\u001b[43m \u001b[49m\u001b[38;5;124;43m\"\u001b[39;49m\u001b[38;5;124;43mbalanced_low_0\u001b[39;49m\u001b[38;5;124;43m\"\u001b[39;49m\u001b[43m)\u001b[49m\u001b[43m,\u001b[49m\n\u001b[1;32m    472\u001b[0m \u001b[43m    \u001b[49m\u001b[43m)\u001b[49m\n\u001b[1;32m    473\u001b[0m \u001b[38;5;28;01mif\u001b[39;00m \u001b[38;5;28misinstance\u001b[39m(device_map, \u001b[38;5;28mstr\u001b[39m):\n\u001b[1;32m    474\u001b[0m     device_map \u001b[38;5;241m=\u001b[39m infer_auto_device_map(\n\u001b[1;32m    475\u001b[0m         model, max_memory\u001b[38;5;241m=\u001b[39mmax_memory, no_split_module_classes\u001b[38;5;241m=\u001b[39mno_split_module_classes, dtype\u001b[38;5;241m=\u001b[39mdtype\n\u001b[1;32m    476\u001b[0m     )\n",
      "File \u001b[0;32m~/miniconda3/lib/python3.8/site-packages/accelerate/utils/modeling.py:489\u001b[0m, in \u001b[0;36mget_balanced_memory\u001b[0;34m(model, max_memory, no_split_module_classes, dtype, special_dtypes, low_zero)\u001b[0m\n\u001b[1;32m    486\u001b[0m     \u001b[38;5;28;01mreturn\u001b[39;00m max_memory\n\u001b[1;32m    488\u001b[0m num_devices \u001b[38;5;241m=\u001b[39m \u001b[38;5;28mlen\u001b[39m([d \u001b[38;5;28;01mfor\u001b[39;00m d \u001b[38;5;129;01min\u001b[39;00m max_memory \u001b[38;5;28;01mif\u001b[39;00m torch\u001b[38;5;241m.\u001b[39mdevice(d)\u001b[38;5;241m.\u001b[39mtype \u001b[38;5;241m==\u001b[39m \u001b[38;5;124m\"\u001b[39m\u001b[38;5;124mcuda\u001b[39m\u001b[38;5;124m\"\u001b[39m \u001b[38;5;129;01mand\u001b[39;00m max_memory[d] \u001b[38;5;241m>\u001b[39m \u001b[38;5;241m0\u001b[39m])\n\u001b[0;32m--> 489\u001b[0m module_sizes \u001b[38;5;241m=\u001b[39m \u001b[43mcompute_module_sizes\u001b[49m\u001b[43m(\u001b[49m\u001b[43mmodel\u001b[49m\u001b[43m,\u001b[49m\u001b[43m \u001b[49m\u001b[43mdtype\u001b[49m\u001b[38;5;241;43m=\u001b[39;49m\u001b[43mdtype\u001b[49m\u001b[43m,\u001b[49m\u001b[43m \u001b[49m\u001b[43mspecial_dtypes\u001b[49m\u001b[38;5;241;43m=\u001b[39;49m\u001b[43mspecial_dtypes\u001b[49m\u001b[43m)\u001b[49m\n\u001b[1;32m    490\u001b[0m per_gpu \u001b[38;5;241m=\u001b[39m module_sizes[\u001b[38;5;124m\"\u001b[39m\u001b[38;5;124m\"\u001b[39m] \u001b[38;5;241m/\u001b[39m\u001b[38;5;241m/\u001b[39m (num_devices \u001b[38;5;241m-\u001b[39m \u001b[38;5;241m1\u001b[39m \u001b[38;5;28;01mif\u001b[39;00m low_zero \u001b[38;5;28;01melse\u001b[39;00m num_devices)\n\u001b[1;32m    492\u001b[0m \u001b[38;5;66;03m# We can't just set the memory to model_size // num_devices as it will end being too small: each GPU will get\u001b[39;00m\n\u001b[1;32m    493\u001b[0m \u001b[38;5;66;03m# slightly less layers and some layers will end up offload at the end. So this function computes a buffer size to\u001b[39;00m\n\u001b[1;32m    494\u001b[0m \u001b[38;5;66;03m# add which is the biggest of:\u001b[39;00m\n\u001b[1;32m    495\u001b[0m \u001b[38;5;66;03m# - the size of no split block (if applicable)\u001b[39;00m\n\u001b[1;32m    496\u001b[0m \u001b[38;5;66;03m# - the mean of the layer sizes\u001b[39;00m\n",
      "File \u001b[0;32m~/miniconda3/lib/python3.8/site-packages/accelerate/utils/modeling.py:326\u001b[0m, in \u001b[0;36mcompute_module_sizes\u001b[0;34m(model, dtype, special_dtypes)\u001b[0m\n\u001b[1;32m    324\u001b[0m     special_dtypes_size \u001b[38;5;241m=\u001b[39m {key: dtype_byte_size(dtyp) \u001b[38;5;28;01mfor\u001b[39;00m key, dtyp \u001b[38;5;129;01min\u001b[39;00m special_dtypes\u001b[38;5;241m.\u001b[39mitems()}\n\u001b[1;32m    325\u001b[0m module_sizes \u001b[38;5;241m=\u001b[39m defaultdict(\u001b[38;5;28mint\u001b[39m)\n\u001b[0;32m--> 326\u001b[0m \u001b[38;5;28;01mfor\u001b[39;00m name, tensor \u001b[38;5;129;01min\u001b[39;00m named_module_tensors(model, recurse\u001b[38;5;241m=\u001b[39m\u001b[38;5;28;01mTrue\u001b[39;00m):\n\u001b[1;32m    327\u001b[0m     \u001b[38;5;28;01mif\u001b[39;00m special_dtypes \u001b[38;5;129;01mis\u001b[39;00m \u001b[38;5;129;01mnot\u001b[39;00m \u001b[38;5;28;01mNone\u001b[39;00m \u001b[38;5;129;01mand\u001b[39;00m name \u001b[38;5;129;01min\u001b[39;00m special_dtypes:\n\u001b[1;32m    328\u001b[0m         size \u001b[38;5;241m=\u001b[39m tensor\u001b[38;5;241m.\u001b[39mnumel() \u001b[38;5;241m*\u001b[39m special_dtypes_size[name]\n",
      "File \u001b[0;32m~/miniconda3/lib/python3.8/site-packages/accelerate/utils/modeling.py:196\u001b[0m, in \u001b[0;36mnamed_module_tensors\u001b[0;34m(module, include_buffers, recurse)\u001b[0m\n\u001b[1;32m    183\u001b[0m \u001b[38;5;28;01mdef\u001b[39;00m \u001b[38;5;21mnamed_module_tensors\u001b[39m(module: nn\u001b[38;5;241m.\u001b[39mModule, include_buffers: \u001b[38;5;28mbool\u001b[39m \u001b[38;5;241m=\u001b[39m \u001b[38;5;28;01mTrue\u001b[39;00m, recurse: \u001b[38;5;28mbool\u001b[39m \u001b[38;5;241m=\u001b[39m \u001b[38;5;28;01mFalse\u001b[39;00m):\n\u001b[1;32m    184\u001b[0m     \u001b[38;5;124;03m\"\"\"\u001b[39;00m\n\u001b[1;32m    185\u001b[0m \u001b[38;5;124;03m    A helper function that gathers all the tensors (parameters + buffers) of a given module. If `include_buffers=True`\u001b[39;00m\n\u001b[1;32m    186\u001b[0m \u001b[38;5;124;03m    it's the same as doing `module.named_parameters(recurse=recurse) + module.named_buffers(recurse=recurse)`.\u001b[39;00m\n\u001b[0;32m   (...)\u001b[0m\n\u001b[1;32m    194\u001b[0m \u001b[38;5;124;03m            Whether or not to go look in every submodule or just return the direct parameters and buffers.\u001b[39;00m\n\u001b[1;32m    195\u001b[0m \u001b[38;5;124;03m    \"\"\"\u001b[39;00m\n\u001b[0;32m--> 196\u001b[0m     \u001b[38;5;28;01mfor\u001b[39;00m named_parameter \u001b[38;5;129;01min\u001b[39;00m \u001b[43mmodule\u001b[49m\u001b[38;5;241;43m.\u001b[39;49m\u001b[43mnamed_parameters\u001b[49m\u001b[43m(\u001b[49m\u001b[43mrecurse\u001b[49m\u001b[38;5;241;43m=\u001b[39;49m\u001b[43mrecurse\u001b[49m\u001b[43m)\u001b[49m:\n\u001b[1;32m    197\u001b[0m         \u001b[38;5;28;01myield\u001b[39;00m named_parameter\n\u001b[1;32m    199\u001b[0m     \u001b[38;5;28;01mif\u001b[39;00m include_buffers:\n",
      "\u001b[0;31mTypeError\u001b[0m: named_parameters() missing 1 required positional argument: 'self'"
     ]
    }
   ],
   "source": [
    "gpu_model = load_checkpoint_and_dispatch(\n",
    "    LlamaForCausalLM, \"../autodl-fs/llama13B\", device_map=\"auto\", no_split_module_classes=[\"GPTJBlock\"]\n",
    ")"
   ]
  },
  {
   "cell_type": "code",
   "execution_count": null,
   "id": "4e515748-3dc5-4f35-bbb2-b1e63c880121",
   "metadata": {},
   "outputs": [],
   "source": []
  }
 ],
 "metadata": {
  "kernelspec": {
   "display_name": "Python 3 (ipykernel)",
   "language": "python",
   "name": "python3"
  },
  "language_info": {
   "codemirror_mode": {
    "name": "ipython",
    "version": 3
   },
   "file_extension": ".py",
   "mimetype": "text/x-python",
   "name": "python",
   "nbconvert_exporter": "python",
   "pygments_lexer": "ipython3",
   "version": "3.8.10"
  }
 },
 "nbformat": 4,
 "nbformat_minor": 5
}
